{
 "cells": [
  {
   "cell_type": "markdown",
   "metadata": {},
   "source": [
    "# Zimnat Insurance Recommendation Challenge - Zindi\n",
    "**Client: Zimnat Insurance**\n",
    "Insurance companies pool and spread risk across a broad customer base. This works best where the population to be insured is diverse and large. Understanding the varied insurance needs of a population, and matching them to appropriate products offered by insurance companies, makes insurance more effective and makes insurance companies more successful. At the heart of this, understanding the consumer of insurance products helps insurance companies refine, diversify, and market their product offerigs. Increased data collection and improved data science tools offer the chance to greatly improve this understanding.\n",
    "\n",
    "Zimnat Insurance wants a ML model to use customer data to predict which kinds of insurance products to recommend to customers. We will therefore, leverage data and ML methods to improve market outcomes for the company by matching consumer needs with product offerings in the Zimbabwean Insurance market.\n",
    "\n",
    "Our data is of nearly 40,000 customers who have purchased two or more insurance products from Zimnat. The data can be accessed [here](https://zindi.africa/competitions/zimnat-insurance-recommendation-challenge/data). The data is divided into Train and Test sets. For both sets, each row corresponds to a customer, assigned a unique ID('ID'). Each set also has customer related information ('join_data', 'sex','marital_status', 'birth_year', 'occupation_code', 'occupation_category_code'). The branch code of the customer ('branch_code') is also provided. The rest of the data corresponds to the 21 products on offer.\n",
    "\n",
    "For each product that a customer has, there is 1 in the column and 0 if the customer doesn't have that product. This is true for both train and test set except that for each customer, ONE product has been removed in the test set, i.e. the 1 has been replaced with a 0. The goal is to predict this missing product.\n",
    "\n",
    "We will start with Data Exploration before building the model.\n",
    "\n",
    "To come up with a ML model we first need to understand the data we are working with. We'll therefore conduct different Exploratory Data Analysis.\n",
    "\n",
    "## Exploratory Data Analysis\n",
    "\n",
    "We'll start with getting our data into a dataframe for easy understanding and analysis. To do this we start with importing the libraries to help us with data analysis."
   ]
  },
  {
   "cell_type": "code",
   "execution_count": 1,
   "metadata": {},
   "outputs": [],
   "source": [
    "import pandas as pd\n",
    "import matplotlib.pyplot as plt\n",
    "%matplotlib inline\n",
    "import seaborn as sns\n",
    "sns.set()"
   ]
  },
  {
   "cell_type": "markdown",
   "metadata": {},
   "source": [
    "Then we read our data and store them in a dataframe. We'll read three sets of data, the train data, the test data, and the sample submission file to understand the format required for submission."
   ]
  },
  {
   "cell_type": "code",
   "execution_count": 4,
   "metadata": {},
   "outputs": [],
   "source": [
    "train_data = pd.read_csv('C:/Users/kiiru/10acadWeeklyChallenges/Zindi Challenges/Zimnat Insurance Recommendation/data/train.csv')\n",
    "test_data = pd.read_csv('C:/Users/kiiru/10acadWeeklyChallenges/Zindi Challenges/Zimnat Insurance Recommendation/data/test.csv')\n",
    "submission_file = pd.read_csv('C:/Users/kiiru/10acadWeeklyChallenges/Zindi Challenges/Zimnat Insurance Recommendation/data/samplesubmission.csv')"
   ]
  },
  {
   "cell_type": "markdown",
   "metadata": {},
   "source": [
    "Then we go ahead to inspect the dataframes to analyse if they have been imported in the right format and use a few function like `.info()` to understand the basics of the data."
   ]
  },
  {
   "cell_type": "code",
   "execution_count": 5,
   "metadata": {},
   "outputs": [
    {
     "data": {
      "text/html": [
       "<div>\n",
       "<style scoped>\n",
       "    .dataframe tbody tr th:only-of-type {\n",
       "        vertical-align: middle;\n",
       "    }\n",
       "\n",
       "    .dataframe tbody tr th {\n",
       "        vertical-align: top;\n",
       "    }\n",
       "\n",
       "    .dataframe thead th {\n",
       "        text-align: right;\n",
       "    }\n",
       "</style>\n",
       "<table border=\"1\" class=\"dataframe\">\n",
       "  <thead>\n",
       "    <tr style=\"text-align: right;\">\n",
       "      <th></th>\n",
       "      <th>ID</th>\n",
       "      <th>join_date</th>\n",
       "      <th>sex</th>\n",
       "      <th>marital_status</th>\n",
       "      <th>birth_year</th>\n",
       "      <th>branch_code</th>\n",
       "      <th>occupation_code</th>\n",
       "      <th>occupation_category_code</th>\n",
       "      <th>P5DA</th>\n",
       "      <th>RIBP</th>\n",
       "      <th>...</th>\n",
       "      <th>AHXO</th>\n",
       "      <th>BSTQ</th>\n",
       "      <th>FM3X</th>\n",
       "      <th>K6QO</th>\n",
       "      <th>QBOL</th>\n",
       "      <th>JWFN</th>\n",
       "      <th>JZ9D</th>\n",
       "      <th>J9JW</th>\n",
       "      <th>GHYX</th>\n",
       "      <th>ECY3</th>\n",
       "    </tr>\n",
       "  </thead>\n",
       "  <tbody>\n",
       "    <tr>\n",
       "      <th>0</th>\n",
       "      <td>F86J5PC</td>\n",
       "      <td>1/12/2018</td>\n",
       "      <td>M</td>\n",
       "      <td>M</td>\n",
       "      <td>1984</td>\n",
       "      <td>94KC</td>\n",
       "      <td>DZRV</td>\n",
       "      <td>90QI</td>\n",
       "      <td>0</td>\n",
       "      <td>0</td>\n",
       "      <td>...</td>\n",
       "      <td>0</td>\n",
       "      <td>0</td>\n",
       "      <td>0</td>\n",
       "      <td>0</td>\n",
       "      <td>0</td>\n",
       "      <td>0</td>\n",
       "      <td>0</td>\n",
       "      <td>0</td>\n",
       "      <td>0</td>\n",
       "      <td>0</td>\n",
       "    </tr>\n",
       "    <tr>\n",
       "      <th>1</th>\n",
       "      <td>H6141K3</td>\n",
       "      <td>1/10/2019</td>\n",
       "      <td>M</td>\n",
       "      <td>M</td>\n",
       "      <td>1996</td>\n",
       "      <td>1X1H</td>\n",
       "      <td>J9SY</td>\n",
       "      <td>90QI</td>\n",
       "      <td>0</td>\n",
       "      <td>0</td>\n",
       "      <td>...</td>\n",
       "      <td>0</td>\n",
       "      <td>0</td>\n",
       "      <td>0</td>\n",
       "      <td>1</td>\n",
       "      <td>0</td>\n",
       "      <td>0</td>\n",
       "      <td>0</td>\n",
       "      <td>0</td>\n",
       "      <td>0</td>\n",
       "      <td>0</td>\n",
       "    </tr>\n",
       "    <tr>\n",
       "      <th>2</th>\n",
       "      <td>RBAYUXZ</td>\n",
       "      <td>1/1/2020</td>\n",
       "      <td>F</td>\n",
       "      <td>W</td>\n",
       "      <td>1968</td>\n",
       "      <td>UAOD</td>\n",
       "      <td>2A7I</td>\n",
       "      <td>T4MS</td>\n",
       "      <td>0</td>\n",
       "      <td>0</td>\n",
       "      <td>...</td>\n",
       "      <td>0</td>\n",
       "      <td>0</td>\n",
       "      <td>0</td>\n",
       "      <td>1</td>\n",
       "      <td>0</td>\n",
       "      <td>0</td>\n",
       "      <td>0</td>\n",
       "      <td>0</td>\n",
       "      <td>0</td>\n",
       "      <td>0</td>\n",
       "    </tr>\n",
       "    <tr>\n",
       "      <th>3</th>\n",
       "      <td>KCBILBQ</td>\n",
       "      <td>1/2/2019</td>\n",
       "      <td>M</td>\n",
       "      <td>M</td>\n",
       "      <td>1989</td>\n",
       "      <td>94KC</td>\n",
       "      <td>2A7I</td>\n",
       "      <td>T4MS</td>\n",
       "      <td>0</td>\n",
       "      <td>0</td>\n",
       "      <td>...</td>\n",
       "      <td>0</td>\n",
       "      <td>0</td>\n",
       "      <td>0</td>\n",
       "      <td>0</td>\n",
       "      <td>0</td>\n",
       "      <td>0</td>\n",
       "      <td>0</td>\n",
       "      <td>0</td>\n",
       "      <td>0</td>\n",
       "      <td>0</td>\n",
       "    </tr>\n",
       "    <tr>\n",
       "      <th>4</th>\n",
       "      <td>LSEC1ZJ</td>\n",
       "      <td>1/2/2020</td>\n",
       "      <td>F</td>\n",
       "      <td>M</td>\n",
       "      <td>1982</td>\n",
       "      <td>UAOD</td>\n",
       "      <td>0KID</td>\n",
       "      <td>T4MS</td>\n",
       "      <td>0</td>\n",
       "      <td>0</td>\n",
       "      <td>...</td>\n",
       "      <td>0</td>\n",
       "      <td>0</td>\n",
       "      <td>0</td>\n",
       "      <td>0</td>\n",
       "      <td>0</td>\n",
       "      <td>0</td>\n",
       "      <td>1</td>\n",
       "      <td>0</td>\n",
       "      <td>0</td>\n",
       "      <td>0</td>\n",
       "    </tr>\n",
       "  </tbody>\n",
       "</table>\n",
       "<p>5 rows × 29 columns</p>\n",
       "</div>"
      ],
      "text/plain": [
       "        ID  join_date sex marital_status  birth_year branch_code  \\\n",
       "0  F86J5PC  1/12/2018   M              M        1984        94KC   \n",
       "1  H6141K3  1/10/2019   M              M        1996        1X1H   \n",
       "2  RBAYUXZ   1/1/2020   F              W        1968        UAOD   \n",
       "3  KCBILBQ   1/2/2019   M              M        1989        94KC   \n",
       "4  LSEC1ZJ   1/2/2020   F              M        1982        UAOD   \n",
       "\n",
       "  occupation_code occupation_category_code  P5DA  RIBP  ...  AHXO  BSTQ  FM3X  \\\n",
       "0            DZRV                     90QI     0     0  ...     0     0     0   \n",
       "1            J9SY                     90QI     0     0  ...     0     0     0   \n",
       "2            2A7I                     T4MS     0     0  ...     0     0     0   \n",
       "3            2A7I                     T4MS     0     0  ...     0     0     0   \n",
       "4            0KID                     T4MS     0     0  ...     0     0     0   \n",
       "\n",
       "   K6QO  QBOL  JWFN  JZ9D  J9JW  GHYX  ECY3  \n",
       "0     0     0     0     0     0     0     0  \n",
       "1     1     0     0     0     0     0     0  \n",
       "2     1     0     0     0     0     0     0  \n",
       "3     0     0     0     0     0     0     0  \n",
       "4     0     0     0     1     0     0     0  \n",
       "\n",
       "[5 rows x 29 columns]"
      ]
     },
     "execution_count": 5,
     "metadata": {},
     "output_type": "execute_result"
    }
   ],
   "source": [
    "test_data.head()"
   ]
  },
  {
   "cell_type": "code",
   "execution_count": 8,
   "metadata": {
    "scrolled": true
   },
   "outputs": [
    {
     "name": "stdout",
     "output_type": "stream",
     "text": [
      "<class 'pandas.core.frame.DataFrame'>\n",
      "RangeIndex: 10000 entries, 0 to 9999\n",
      "Data columns (total 29 columns):\n",
      " #   Column                    Non-Null Count  Dtype \n",
      "---  ------                    --------------  ----- \n",
      " 0   ID                        10000 non-null  object\n",
      " 1   join_date                 9999 non-null   object\n",
      " 2   sex                       10000 non-null  object\n",
      " 3   marital_status            10000 non-null  object\n",
      " 4   birth_year                10000 non-null  int64 \n",
      " 5   branch_code               10000 non-null  object\n",
      " 6   occupation_code           10000 non-null  object\n",
      " 7   occupation_category_code  10000 non-null  object\n",
      " 8   P5DA                      10000 non-null  int64 \n",
      " 9   RIBP                      10000 non-null  int64 \n",
      " 10  8NN1                      10000 non-null  int64 \n",
      " 11  7POT                      10000 non-null  int64 \n",
      " 12  66FJ                      10000 non-null  int64 \n",
      " 13  GYSR                      10000 non-null  int64 \n",
      " 14  SOP4                      10000 non-null  int64 \n",
      " 15  RVSZ                      10000 non-null  int64 \n",
      " 16  PYUQ                      10000 non-null  int64 \n",
      " 17  LJR9                      10000 non-null  int64 \n",
      " 18  N2MW                      10000 non-null  int64 \n",
      " 19  AHXO                      10000 non-null  int64 \n",
      " 20  BSTQ                      10000 non-null  int64 \n",
      " 21  FM3X                      10000 non-null  int64 \n",
      " 22  K6QO                      10000 non-null  int64 \n",
      " 23  QBOL                      10000 non-null  int64 \n",
      " 24  JWFN                      10000 non-null  int64 \n",
      " 25  JZ9D                      10000 non-null  int64 \n",
      " 26  J9JW                      10000 non-null  int64 \n",
      " 27  GHYX                      10000 non-null  int64 \n",
      " 28  ECY3                      10000 non-null  int64 \n",
      "dtypes: int64(22), object(7)\n",
      "memory usage: 2.2+ MB\n"
     ]
    }
   ],
   "source": [
    "test_data.info()"
   ]
  },
  {
   "cell_type": "code",
   "execution_count": 6,
   "metadata": {},
   "outputs": [
    {
     "data": {
      "text/html": [
       "<div>\n",
       "<style scoped>\n",
       "    .dataframe tbody tr th:only-of-type {\n",
       "        vertical-align: middle;\n",
       "    }\n",
       "\n",
       "    .dataframe tbody tr th {\n",
       "        vertical-align: top;\n",
       "    }\n",
       "\n",
       "    .dataframe thead th {\n",
       "        text-align: right;\n",
       "    }\n",
       "</style>\n",
       "<table border=\"1\" class=\"dataframe\">\n",
       "  <thead>\n",
       "    <tr style=\"text-align: right;\">\n",
       "      <th></th>\n",
       "      <th>ID</th>\n",
       "      <th>join_date</th>\n",
       "      <th>sex</th>\n",
       "      <th>marital_status</th>\n",
       "      <th>birth_year</th>\n",
       "      <th>branch_code</th>\n",
       "      <th>occupation_code</th>\n",
       "      <th>occupation_category_code</th>\n",
       "      <th>P5DA</th>\n",
       "      <th>RIBP</th>\n",
       "      <th>...</th>\n",
       "      <th>AHXO</th>\n",
       "      <th>BSTQ</th>\n",
       "      <th>FM3X</th>\n",
       "      <th>K6QO</th>\n",
       "      <th>QBOL</th>\n",
       "      <th>JWFN</th>\n",
       "      <th>JZ9D</th>\n",
       "      <th>J9JW</th>\n",
       "      <th>GHYX</th>\n",
       "      <th>ECY3</th>\n",
       "    </tr>\n",
       "  </thead>\n",
       "  <tbody>\n",
       "    <tr>\n",
       "      <th>0</th>\n",
       "      <td>4WKQSBB</td>\n",
       "      <td>1/2/2019</td>\n",
       "      <td>F</td>\n",
       "      <td>M</td>\n",
       "      <td>1987</td>\n",
       "      <td>1X1H</td>\n",
       "      <td>2A7I</td>\n",
       "      <td>T4MS</td>\n",
       "      <td>0</td>\n",
       "      <td>0</td>\n",
       "      <td>...</td>\n",
       "      <td>0</td>\n",
       "      <td>0</td>\n",
       "      <td>0</td>\n",
       "      <td>1</td>\n",
       "      <td>0</td>\n",
       "      <td>0</td>\n",
       "      <td>0</td>\n",
       "      <td>0</td>\n",
       "      <td>0</td>\n",
       "      <td>0</td>\n",
       "    </tr>\n",
       "    <tr>\n",
       "      <th>1</th>\n",
       "      <td>CP5S02H</td>\n",
       "      <td>1/6/2019</td>\n",
       "      <td>F</td>\n",
       "      <td>M</td>\n",
       "      <td>1981</td>\n",
       "      <td>UAOD</td>\n",
       "      <td>2A7I</td>\n",
       "      <td>T4MS</td>\n",
       "      <td>0</td>\n",
       "      <td>0</td>\n",
       "      <td>...</td>\n",
       "      <td>0</td>\n",
       "      <td>0</td>\n",
       "      <td>0</td>\n",
       "      <td>1</td>\n",
       "      <td>0</td>\n",
       "      <td>0</td>\n",
       "      <td>0</td>\n",
       "      <td>0</td>\n",
       "      <td>0</td>\n",
       "      <td>0</td>\n",
       "    </tr>\n",
       "    <tr>\n",
       "      <th>2</th>\n",
       "      <td>2YKDILJ</td>\n",
       "      <td>1/6/2013</td>\n",
       "      <td>M</td>\n",
       "      <td>U</td>\n",
       "      <td>1991</td>\n",
       "      <td>748L</td>\n",
       "      <td>QZYX</td>\n",
       "      <td>90QI</td>\n",
       "      <td>0</td>\n",
       "      <td>0</td>\n",
       "      <td>...</td>\n",
       "      <td>0</td>\n",
       "      <td>0</td>\n",
       "      <td>0</td>\n",
       "      <td>0</td>\n",
       "      <td>0</td>\n",
       "      <td>0</td>\n",
       "      <td>0</td>\n",
       "      <td>0</td>\n",
       "      <td>0</td>\n",
       "      <td>1</td>\n",
       "    </tr>\n",
       "    <tr>\n",
       "      <th>3</th>\n",
       "      <td>2S9E81J</td>\n",
       "      <td>1/8/2019</td>\n",
       "      <td>M</td>\n",
       "      <td>M</td>\n",
       "      <td>1990</td>\n",
       "      <td>1X1H</td>\n",
       "      <td>BP09</td>\n",
       "      <td>56SI</td>\n",
       "      <td>0</td>\n",
       "      <td>0</td>\n",
       "      <td>...</td>\n",
       "      <td>0</td>\n",
       "      <td>0</td>\n",
       "      <td>0</td>\n",
       "      <td>1</td>\n",
       "      <td>0</td>\n",
       "      <td>0</td>\n",
       "      <td>0</td>\n",
       "      <td>0</td>\n",
       "      <td>0</td>\n",
       "      <td>0</td>\n",
       "    </tr>\n",
       "    <tr>\n",
       "      <th>4</th>\n",
       "      <td>BHDYVFT</td>\n",
       "      <td>1/8/2019</td>\n",
       "      <td>M</td>\n",
       "      <td>M</td>\n",
       "      <td>1990</td>\n",
       "      <td>748L</td>\n",
       "      <td>NO3L</td>\n",
       "      <td>T4MS</td>\n",
       "      <td>0</td>\n",
       "      <td>0</td>\n",
       "      <td>...</td>\n",
       "      <td>0</td>\n",
       "      <td>0</td>\n",
       "      <td>0</td>\n",
       "      <td>0</td>\n",
       "      <td>0</td>\n",
       "      <td>0</td>\n",
       "      <td>1</td>\n",
       "      <td>1</td>\n",
       "      <td>0</td>\n",
       "      <td>0</td>\n",
       "    </tr>\n",
       "  </tbody>\n",
       "</table>\n",
       "<p>5 rows × 29 columns</p>\n",
       "</div>"
      ],
      "text/plain": [
       "        ID join_date sex marital_status  birth_year branch_code  \\\n",
       "0  4WKQSBB  1/2/2019   F              M        1987        1X1H   \n",
       "1  CP5S02H  1/6/2019   F              M        1981        UAOD   \n",
       "2  2YKDILJ  1/6/2013   M              U        1991        748L   \n",
       "3  2S9E81J  1/8/2019   M              M        1990        1X1H   \n",
       "4  BHDYVFT  1/8/2019   M              M        1990        748L   \n",
       "\n",
       "  occupation_code occupation_category_code  P5DA  RIBP  ...  AHXO  BSTQ  FM3X  \\\n",
       "0            2A7I                     T4MS     0     0  ...     0     0     0   \n",
       "1            2A7I                     T4MS     0     0  ...     0     0     0   \n",
       "2            QZYX                     90QI     0     0  ...     0     0     0   \n",
       "3            BP09                     56SI     0     0  ...     0     0     0   \n",
       "4            NO3L                     T4MS     0     0  ...     0     0     0   \n",
       "\n",
       "   K6QO  QBOL  JWFN  JZ9D  J9JW  GHYX  ECY3  \n",
       "0     1     0     0     0     0     0     0  \n",
       "1     1     0     0     0     0     0     0  \n",
       "2     0     0     0     0     0     0     1  \n",
       "3     1     0     0     0     0     0     0  \n",
       "4     0     0     0     1     1     0     0  \n",
       "\n",
       "[5 rows x 29 columns]"
      ]
     },
     "execution_count": 6,
     "metadata": {},
     "output_type": "execute_result"
    }
   ],
   "source": [
    "train_data.head()"
   ]
  },
  {
   "cell_type": "code",
   "execution_count": 9,
   "metadata": {
    "scrolled": true
   },
   "outputs": [
    {
     "name": "stdout",
     "output_type": "stream",
     "text": [
      "<class 'pandas.core.frame.DataFrame'>\n",
      "RangeIndex: 29132 entries, 0 to 29131\n",
      "Data columns (total 29 columns):\n",
      " #   Column                    Non-Null Count  Dtype \n",
      "---  ------                    --------------  ----- \n",
      " 0   ID                        29132 non-null  object\n",
      " 1   join_date                 29130 non-null  object\n",
      " 2   sex                       29132 non-null  object\n",
      " 3   marital_status            29132 non-null  object\n",
      " 4   birth_year                29132 non-null  int64 \n",
      " 5   branch_code               29132 non-null  object\n",
      " 6   occupation_code           29132 non-null  object\n",
      " 7   occupation_category_code  29132 non-null  object\n",
      " 8   P5DA                      29132 non-null  int64 \n",
      " 9   RIBP                      29132 non-null  int64 \n",
      " 10  8NN1                      29132 non-null  int64 \n",
      " 11  7POT                      29132 non-null  int64 \n",
      " 12  66FJ                      29132 non-null  int64 \n",
      " 13  GYSR                      29132 non-null  int64 \n",
      " 14  SOP4                      29132 non-null  int64 \n",
      " 15  RVSZ                      29132 non-null  int64 \n",
      " 16  PYUQ                      29132 non-null  int64 \n",
      " 17  LJR9                      29132 non-null  int64 \n",
      " 18  N2MW                      29132 non-null  int64 \n",
      " 19  AHXO                      29132 non-null  int64 \n",
      " 20  BSTQ                      29132 non-null  int64 \n",
      " 21  FM3X                      29132 non-null  int64 \n",
      " 22  K6QO                      29132 non-null  int64 \n",
      " 23  QBOL                      29132 non-null  int64 \n",
      " 24  JWFN                      29132 non-null  int64 \n",
      " 25  JZ9D                      29132 non-null  int64 \n",
      " 26  J9JW                      29132 non-null  int64 \n",
      " 27  GHYX                      29132 non-null  int64 \n",
      " 28  ECY3                      29132 non-null  int64 \n",
      "dtypes: int64(22), object(7)\n",
      "memory usage: 6.4+ MB\n"
     ]
    }
   ],
   "source": [
    "train_data.info()"
   ]
  },
  {
   "cell_type": "code",
   "execution_count": 7,
   "metadata": {},
   "outputs": [
    {
     "data": {
      "text/html": [
       "<div>\n",
       "<style scoped>\n",
       "    .dataframe tbody tr th:only-of-type {\n",
       "        vertical-align: middle;\n",
       "    }\n",
       "\n",
       "    .dataframe tbody tr th {\n",
       "        vertical-align: top;\n",
       "    }\n",
       "\n",
       "    .dataframe thead th {\n",
       "        text-align: right;\n",
       "    }\n",
       "</style>\n",
       "<table border=\"1\" class=\"dataframe\">\n",
       "  <thead>\n",
       "    <tr style=\"text-align: right;\">\n",
       "      <th></th>\n",
       "      <th>ID X PCODE</th>\n",
       "      <th>Label</th>\n",
       "    </tr>\n",
       "  </thead>\n",
       "  <tbody>\n",
       "    <tr>\n",
       "      <th>0</th>\n",
       "      <td>F86J5PC X P5DA</td>\n",
       "      <td>0</td>\n",
       "    </tr>\n",
       "    <tr>\n",
       "      <th>1</th>\n",
       "      <td>F86J5PC X RIBP</td>\n",
       "      <td>0</td>\n",
       "    </tr>\n",
       "    <tr>\n",
       "      <th>2</th>\n",
       "      <td>F86J5PC X 8NN1</td>\n",
       "      <td>0</td>\n",
       "    </tr>\n",
       "    <tr>\n",
       "      <th>3</th>\n",
       "      <td>F86J5PC X 7POT</td>\n",
       "      <td>0</td>\n",
       "    </tr>\n",
       "    <tr>\n",
       "      <th>4</th>\n",
       "      <td>F86J5PC X 66FJ</td>\n",
       "      <td>0</td>\n",
       "    </tr>\n",
       "  </tbody>\n",
       "</table>\n",
       "</div>"
      ],
      "text/plain": [
       "       ID X PCODE  Label\n",
       "0  F86J5PC X P5DA      0\n",
       "1  F86J5PC X RIBP      0\n",
       "2  F86J5PC X 8NN1      0\n",
       "3  F86J5PC X 7POT      0\n",
       "4  F86J5PC X 66FJ      0"
      ]
     },
     "execution_count": 7,
     "metadata": {},
     "output_type": "execute_result"
    }
   ],
   "source": [
    "submission_file.head()"
   ]
  },
  {
   "cell_type": "code",
   "execution_count": 10,
   "metadata": {},
   "outputs": [
    {
     "name": "stdout",
     "output_type": "stream",
     "text": [
      "<class 'pandas.core.frame.DataFrame'>\n",
      "RangeIndex: 210000 entries, 0 to 209999\n",
      "Data columns (total 2 columns):\n",
      " #   Column      Non-Null Count   Dtype \n",
      "---  ------      --------------   ----- \n",
      " 0   ID X PCODE  210000 non-null  object\n",
      " 1   Label       210000 non-null  int64 \n",
      "dtypes: int64(1), object(1)\n",
      "memory usage: 3.2+ MB\n"
     ]
    }
   ],
   "source": [
    "submission_file.info()"
   ]
  },
  {
   "cell_type": "markdown",
   "metadata": {},
   "source": [
    "The submission file simply tells us how we need our data to be for submission purposes.\n",
    "\n",
    "Next we analyse the number of unique values for each data set using `.nunique()`."
   ]
  },
  {
   "cell_type": "code",
   "execution_count": 11,
   "metadata": {
    "collapsed": true
   },
   "outputs": [
    {
     "data": {
      "text/plain": [
       "ID                          29132\n",
       "join_date                     132\n",
       "sex                             2\n",
       "marital_status                  8\n",
       "birth_year                     61\n",
       "branch_code                    15\n",
       "occupation_code               233\n",
       "occupation_category_code        6\n",
       "P5DA                            2\n",
       "RIBP                            2\n",
       "8NN1                            2\n",
       "7POT                            2\n",
       "66FJ                            2\n",
       "GYSR                            2\n",
       "SOP4                            2\n",
       "RVSZ                            2\n",
       "PYUQ                            2\n",
       "LJR9                            2\n",
       "N2MW                            2\n",
       "AHXO                            2\n",
       "BSTQ                            2\n",
       "FM3X                            2\n",
       "K6QO                            2\n",
       "QBOL                            2\n",
       "JWFN                            2\n",
       "JZ9D                            2\n",
       "J9JW                            2\n",
       "GHYX                            2\n",
       "ECY3                            2\n",
       "dtype: int64"
      ]
     },
     "execution_count": 11,
     "metadata": {},
     "output_type": "execute_result"
    }
   ],
   "source": [
    "train_data.nunique()"
   ]
  },
  {
   "cell_type": "code",
   "execution_count": 12,
   "metadata": {
    "collapsed": true
   },
   "outputs": [
    {
     "data": {
      "text/plain": [
       "ID                          10000\n",
       "join_date                     126\n",
       "sex                             2\n",
       "marital_status                  8\n",
       "birth_year                     55\n",
       "branch_code                    15\n",
       "occupation_code               187\n",
       "occupation_category_code        6\n",
       "P5DA                            2\n",
       "RIBP                            2\n",
       "8NN1                            2\n",
       "7POT                            2\n",
       "66FJ                            2\n",
       "GYSR                            2\n",
       "SOP4                            2\n",
       "RVSZ                            2\n",
       "PYUQ                            2\n",
       "LJR9                            2\n",
       "N2MW                            2\n",
       "AHXO                            2\n",
       "BSTQ                            2\n",
       "FM3X                            2\n",
       "K6QO                            2\n",
       "QBOL                            2\n",
       "JWFN                            2\n",
       "JZ9D                            2\n",
       "J9JW                            2\n",
       "GHYX                            2\n",
       "ECY3                            2\n",
       "dtype: int64"
      ]
     },
     "execution_count": 12,
     "metadata": {},
     "output_type": "execute_result"
    }
   ],
   "source": [
    "test_data.nunique()"
   ]
  },
  {
   "cell_type": "markdown",
   "metadata": {},
   "source": [
    "We can see from the unique values that all products have only two unique values which is 0 and 1 where 0 indicates that the customer has not purchased the product and 1 to indicate that the customer has purchases the product.\n",
    "\n",
    "From our submission file format, we notice that the main feature related to the label is a customer's ID concatenated to each product. Therefore, we will transform all our products to one column and concatenate it with the customer ID so as to also have one target variable: `Label`"
   ]
  },
  {
   "cell_type": "code",
   "execution_count": 13,
   "metadata": {},
   "outputs": [],
   "source": [
    "products =train_data[['P5DA', 'RIBP', '8NN1', '7POT', '66FJ', 'GYSR', 'SOP4', 'RVSZ', 'PYUQ', 'LJR9', 'N2MW', 'AHXO', 'BSTQ', 'FM3X', 'K6QO', 'QBOL', 'JWFN', 'JZ9D', 'J9JW', 'GHYX', 'ECY3']]"
   ]
  },
  {
   "cell_type": "code",
   "execution_count": 14,
   "metadata": {},
   "outputs": [],
   "source": [
    "train = train_data.melt(id_vars=train_data.columns[:8], value_vars=products, var_name='PCODE', value_name='Label')\n",
    "test = test_data.melt(id_vars=test_data.columns[:8], value_vars=products, var_name='PCODE', value_name='Label')"
   ]
  },
  {
   "cell_type": "code",
   "execution_count": 15,
   "metadata": {},
   "outputs": [],
   "source": [
    "train['ID X PCODE'] = train['ID'] + ' X ' + train['PCODE']\n",
    "test['ID X PCODE'] = test['ID'] + ' X ' + test['PCODE']"
   ]
  },
  {
   "cell_type": "markdown",
   "metadata": {},
   "source": [
    "Now that we have only one target variable, we can inspect the balance of our target variable to know if we are dealing with a balanced or an imbalanced class.\n",
    "\n",
    "We will check the class imbalance in both our train and test sets."
   ]
  },
  {
   "cell_type": "code",
   "execution_count": 16,
   "metadata": {},
   "outputs": [
    {
     "data": {
      "text/plain": [
       "<function matplotlib.pyplot.show(close=None, block=None)>"
      ]
     },
     "execution_count": 16,
     "metadata": {},
     "output_type": "execute_result"
    },
    {
     "data": {
      "image/png": "[encoded data removed]",
      "text/plain": [
       "<Figure size 576x432 with 1 Axes>"
      ]
     },
     "metadata": {},
     "output_type": "display_data"
    }
   ],
   "source": [
    "total = len(train['Label'])\n",
    "\n",
    "plt.figure(figsize=(8,6))\n",
    "ax = sns.countplot(x='Label', data=train)\n",
    "\n",
    "for p in ax.patches:\n",
    "    ax.annotate('{:.2f}%'.format(100*p.get_height()/total), (p.get_x()+0.3, p.get_height()+5))\n",
    "\n",
    "plt.show"
   ]
  },
  {
   "cell_type": "code",
   "execution_count": 17,
   "metadata": {
    "scrolled": true
   },
   "outputs": [
    {
     "data": {
      "text/plain": [
       "<function matplotlib.pyplot.show(close=None, block=None)>"
      ]
     },
     "execution_count": 17,
     "metadata": {},
     "output_type": "execute_result"
    },
    {
     "data": {
      "image/png": "[encoded data removed]",
      "text/plain": [
       "<Figure size 576x432 with 1 Axes>"
      ]
     },
     "metadata": {},
     "output_type": "display_data"
    }
   ],
   "source": [
    "total = len(test['Label'])\n",
    "\n",
    "plt.figure(figsize=(8,6))\n",
    "ax = sns.countplot(x='Label', data=test)\n",
    "\n",
    "for p in ax.patches:\n",
    "    ax.annotate('{:.2f}%'.format(100*p.get_height()/total), (p.get_x()+0.3, p.get_height()+5))\n",
    "\n",
    "plt.show"
   ]
  },
  {
   "cell_type": "markdown",
   "metadata": {},
   "source": [
    "From the above plots, it is clear that we are dealing with an imbalanced data where the percentage of Label 0 is higher than that of Label 1. From the train set, the ratio of Label 0 to Label 1 is 89:11 while in the test set is 94:6.\n",
    "\n",
    "We will remember this class imbalance when training our models and compare the performance of the models when the classes are balanced and when they are not to check if the class imbalance will affect the performance of our model.\n",
    "\n",
    "### Creation of New Features\n",
    "Next we proceed to create some new features from the already existing ones. From our join_date feature we can get the length of time a customer has been with the insurance. We will create this feature by subtracting the join_date from the current date.\n",
    "\n",
    "To start we will change the data type of our join_date feature from an object to a datetime64 datatype"
   ]
  },
  {
   "cell_type": "code",
   "execution_count": 18,
   "metadata": {},
   "outputs": [],
   "source": [
    "train['join_date'] = train['join_date'].astype('datetime64')\n",
    "test['join_date'] = test['join_date'].astype('datetime64')"
   ]
  },
  {
   "cell_type": "code",
   "execution_count": 19,
   "metadata": {},
   "outputs": [
    {
     "data": {
      "text/html": [
       "<div>\n",
       "<style scoped>\n",
       "    .dataframe tbody tr th:only-of-type {\n",
       "        vertical-align: middle;\n",
       "    }\n",
       "\n",
       "    .dataframe tbody tr th {\n",
       "        vertical-align: top;\n",
       "    }\n",
       "\n",
       "    .dataframe thead th {\n",
       "        text-align: right;\n",
       "    }\n",
       "</style>\n",
       "<table border=\"1\" class=\"dataframe\">\n",
       "  <thead>\n",
       "    <tr style=\"text-align: right;\">\n",
       "      <th></th>\n",
       "      <th>ID</th>\n",
       "      <th>sex</th>\n",
       "      <th>marital_status</th>\n",
       "      <th>birth_year</th>\n",
       "      <th>branch_code</th>\n",
       "      <th>occupation_code</th>\n",
       "      <th>occupation_category_code</th>\n",
       "      <th>PCODE</th>\n",
       "      <th>Label</th>\n",
       "      <th>ID X PCODE</th>\n",
       "      <th>member_days</th>\n",
       "    </tr>\n",
       "  </thead>\n",
       "  <tbody>\n",
       "    <tr>\n",
       "      <th>42560</th>\n",
       "      <td>FDDPY18</td>\n",
       "      <td>M</td>\n",
       "      <td>M</td>\n",
       "      <td>1975</td>\n",
       "      <td>1X1H</td>\n",
       "      <td>2A7I</td>\n",
       "      <td>T4MS</td>\n",
       "      <td>66FJ</td>\n",
       "      <td>0</td>\n",
       "      <td>FDDPY18 X 66FJ</td>\n",
       "      <td>969.700476</td>\n",
       "    </tr>\n",
       "    <tr>\n",
       "      <th>66910</th>\n",
       "      <td>Q2B2AU8</td>\n",
       "      <td>M</td>\n",
       "      <td>M</td>\n",
       "      <td>1980</td>\n",
       "      <td>30H5</td>\n",
       "      <td>2A7I</td>\n",
       "      <td>T4MS</td>\n",
       "      <td>SOP4</td>\n",
       "      <td>0</td>\n",
       "      <td>Q2B2AU8 X SOP4</td>\n",
       "      <td>969.700476</td>\n",
       "    </tr>\n",
       "  </tbody>\n",
       "</table>\n",
       "</div>"
      ],
      "text/plain": [
       "            ID sex marital_status  birth_year branch_code occupation_code  \\\n",
       "42560  FDDPY18   M              M        1975        1X1H            2A7I   \n",
       "66910  Q2B2AU8   M              M        1980        30H5            2A7I   \n",
       "\n",
       "      occupation_category_code PCODE  Label      ID X PCODE  member_days  \n",
       "42560                     T4MS  66FJ      0  FDDPY18 X 66FJ   969.700476  \n",
       "66910                     T4MS  SOP4      0  Q2B2AU8 X SOP4   969.700476  "
      ]
     },
     "execution_count": 19,
     "metadata": {},
     "output_type": "execute_result"
    }
   ],
   "source": [
    "from datetime import datetime\n",
    "import numpy as np\n",
    "train['member_days'] = (datetime.now() - train['join_date'])/np.timedelta64(1, 'D')\n",
    "train = train.drop('join_date', axis=1)\n",
    "test['member_days'] = (datetime.now() - test['join_date'])/np.timedelta64(1, 'D')\n",
    "test = test.drop('join_date', axis=1)\n",
    "test.sample(2)"
   ]
  },
  {
   "cell_type": "markdown",
   "metadata": {},
   "source": [
    "We will also create a new feature to represent the age of each customer. This feature can be generated by subracting the current year from the birth year of the customer which is given as a feature in our data."
   ]
  },
  {
   "cell_type": "code",
   "execution_count": 20,
   "metadata": {},
   "outputs": [
    {
     "data": {
      "text/html": [
       "<div>\n",
       "<style scoped>\n",
       "    .dataframe tbody tr th:only-of-type {\n",
       "        vertical-align: middle;\n",
       "    }\n",
       "\n",
       "    .dataframe tbody tr th {\n",
       "        vertical-align: top;\n",
       "    }\n",
       "\n",
       "    .dataframe thead th {\n",
       "        text-align: right;\n",
       "    }\n",
       "</style>\n",
       "<table border=\"1\" class=\"dataframe\">\n",
       "  <thead>\n",
       "    <tr style=\"text-align: right;\">\n",
       "      <th></th>\n",
       "      <th>ID</th>\n",
       "      <th>sex</th>\n",
       "      <th>marital_status</th>\n",
       "      <th>branch_code</th>\n",
       "      <th>occupation_code</th>\n",
       "      <th>occupation_category_code</th>\n",
       "      <th>PCODE</th>\n",
       "      <th>Label</th>\n",
       "      <th>ID X PCODE</th>\n",
       "      <th>member_days</th>\n",
       "      <th>age</th>\n",
       "    </tr>\n",
       "  </thead>\n",
       "  <tbody>\n",
       "    <tr>\n",
       "      <th>404921</th>\n",
       "      <td>N8M0KZC</td>\n",
       "      <td>M</td>\n",
       "      <td>M</td>\n",
       "      <td>XX25</td>\n",
       "      <td>QZYX</td>\n",
       "      <td>90QI</td>\n",
       "      <td>FM3X</td>\n",
       "      <td>0</td>\n",
       "      <td>N8M0KZC X FM3X</td>\n",
       "      <td>1343.700468</td>\n",
       "      <td>27</td>\n",
       "    </tr>\n",
       "    <tr>\n",
       "      <th>455734</th>\n",
       "      <td>O2KOVTI</td>\n",
       "      <td>M</td>\n",
       "      <td>M</td>\n",
       "      <td>748L</td>\n",
       "      <td>2A7I</td>\n",
       "      <td>T4MS</td>\n",
       "      <td>QBOL</td>\n",
       "      <td>0</td>\n",
       "      <td>O2KOVTI X QBOL</td>\n",
       "      <td>975.700468</td>\n",
       "      <td>35</td>\n",
       "    </tr>\n",
       "  </tbody>\n",
       "</table>\n",
       "</div>"
      ],
      "text/plain": [
       "             ID sex marital_status branch_code occupation_code  \\\n",
       "404921  N8M0KZC   M              M        XX25            QZYX   \n",
       "455734  O2KOVTI   M              M        748L            2A7I   \n",
       "\n",
       "       occupation_category_code PCODE  Label      ID X PCODE  member_days  age  \n",
       "404921                     90QI  FM3X      0  N8M0KZC X FM3X  1343.700468   27  \n",
       "455734                     T4MS  QBOL      0  O2KOVTI X QBOL   975.700468   35  "
      ]
     },
     "execution_count": 20,
     "metadata": {},
     "output_type": "execute_result"
    }
   ],
   "source": [
    "train['age'] = 2020 - train['birth_year']\n",
    "train = train.drop('birth_year', axis=1)\n",
    "test['age'] = 2020 - test['birth_year']\n",
    "test = test.drop('birth_year', axis=1)\n",
    "train.sample(2)"
   ]
  },
  {
   "cell_type": "markdown",
   "metadata": {},
   "source": [
    "It's important to note that we drop the join_date and birth_year columns after generating other new columns based on this columns. This is because the two features would basically have the same representation."
   ]
  },
  {
   "cell_type": "markdown",
   "metadata": {},
   "source": [
    "### Handling Outliers\n",
    "The two features we have created; `age` and `member_days` are both represented with the int64 datatypes. These two features are also the only numerical features in our dataset and we'll therefore, check if there is any outliers in those features. Outliers are values that are abonormal to some extent, that is they fall far away from the rest of the data. This values are often out of human error during data capture or other unforseen reasons.\n",
    "\n",
    "The following function will help us visually understand the distribution and the presence of outliers, if any, in the two features."
   ]
  },
  {
   "cell_type": "code",
   "execution_count": 21,
   "metadata": {},
   "outputs": [],
   "source": [
    "def plot_unibi_num(feature): \n",
    "    fig, ax = plt.subplots(nrows=1, ncols=2, figsize=(18,6))\n",
    "    sns.distplot(train[feature], ax=ax[0])\n",
    "    sns.boxplot(data=train, x='Label', y=feature, ax=ax[1])   \n",
    "    \n",
    "    plt.show()"
   ]
  },
  {
   "cell_type": "code",
   "execution_count": 22,
   "metadata": {},
   "outputs": [
    {
     "data": {
      "image/png": "[encoded data removed]",
      "text/plain": [
       "<Figure size 1296x432 with 2 Axes>"
      ]
     },
     "metadata": {},
     "output_type": "display_data"
    }
   ],
   "source": [
    "plot_unibi_num('member_days')"
   ]
  },
  {
   "cell_type": "code",
   "execution_count": 23,
   "metadata": {
    "scrolled": true
   },
   "outputs": [
    {
     "data": {
      "image/png": "[encoded data removed]",
      "text/plain": [
       "<Figure size 1296x432 with 2 Axes>"
      ]
     },
     "metadata": {},
     "output_type": "display_data"
    }
   ],
   "source": [
    "plot_unibi_num('age')"
   ]
  },
  {
   "cell_type": "markdown",
   "metadata": {},
   "source": [
    "We notice that there are outliers in both our features and therefore, we will have to remove them since they may affect our model training. The following function will help us replace the outliers in our data and also plot the resulting features to ensure that the outliers have been successfully dealt with."
   ]
  },
  {
   "cell_type": "code",
   "execution_count": 24,
   "metadata": {},
   "outputs": [],
   "source": [
    "def replace_outlier(data, features, with_median=False, with_mean=False):\n",
    "    for feature in features:\n",
    "        Q1 = data[feature].quantile(0.25)\n",
    "        Q3 = data[feature].quantile(0.75)\n",
    "    \n",
    "        median = data[feature].quantile(0.50)\n",
    "        mean = data[feature].mean()\n",
    "    \n",
    "        IQR = Q3 - Q1\n",
    "    \n",
    "        upper_whisker = Q3 + (1.5 * IQR)\n",
    "        lower_whisker = Q1 - (1.5 * IQR)\n",
    "    \n",
    "        if with_median:\n",
    "            data[feature] = np.where(data[feature] > upper_whisker, median, data[feature])\n",
    "            data[feature] = np.where(data[feature] < lower_whisker, median, data[feature])\n",
    "    \n",
    "        if with_mean:\n",
    "            data[feature] = np.where(data[feature] > upper_whisker, mean, data[feature])\n",
    "            data[feature] = np.where(data[feature] < lower_whisker, mean, data[feature])\n",
    "            \n",
    "def plot_outliers(data, features):\n",
    "    fig, ax = plt.subplots(len(features), figsize = (8, 20))\n",
    "    \n",
    "    for i, feature in enumerate(features):\n",
    "        sns.boxplot(y = data[feature], ax = ax[i])\n",
    "        ax[i].set_title('Box plot - {}'.format(feature), fontsize = 10)\n",
    "        ax[i].set_xlabel(feature, fontsize = 8)\n",
    "    \n",
    "    plt.show()"
   ]
  },
  {
   "cell_type": "markdown",
   "metadata": {},
   "source": [
    "Then we call the functions and pass in our data and the age and member_days features. Finally we plot the boxplots to analyse the outliers and if they have been successfully replaced."
   ]
  },
  {
   "cell_type": "code",
   "execution_count": 25,
   "metadata": {
    "scrolled": true
   },
   "outputs": [
    {
     "data": {
      "image/png": "[encoded data removed]",
      "text/plain": [
       "<Figure size 576x1440 with 2 Axes>"
      ]
     },
     "metadata": {},
     "output_type": "display_data"
    }
   ],
   "source": [
    "replace_outlier(test, ['age', 'member_days'], with_median=True)\n",
    "\n",
    "plot_outliers(test, ['age', 'member_days'])"
   ]
  },
  {
   "cell_type": "markdown",
   "metadata": {},
   "source": [
    "### Label encoding categorical features\n",
    "Machine learning models only take in numerical figures as input and therefore, there is need to transform all our categorical features to a numerical form.\n",
    "\n",
    "There are multiple ways of transforming categorical features to numerical form such as using get_dummies function in pandas or onehotencoding from scikit-learn. For this project, we will be using label encoding so that we remain with the same number of features. Both get_dummies and onehotencoding result in creation of other features. One of our categorical feature, occupation_code, had over 200 unique values and therefore using onehotencoding or get_dummies will result in a lot of unwanted new features.\n",
    "\n",
    "Labelencoding simply assigns a number from 1 to all the unique features in a categorical feature.\n",
    "\n",
    "The following defined function will help us apply labelencoding to all the categorical features at a go since LabelEncoder() only transforms one feature at a time."
   ]
  },
  {
   "cell_type": "code",
   "execution_count": 26,
   "metadata": {},
   "outputs": [],
   "source": [
    "from sklearn import preprocessing as p\n",
    "class MultiColumnLabelEncoder:\n",
    "    def __init__(self,columns = None):\n",
    "        self.columns = columns # array of column names to encode\n",
    "\n",
    "    def fit(self,X,y=None):\n",
    "        return self # not relevant here\n",
    "\n",
    "    def transform(self,X):\n",
    "        '''\n",
    "        Transforms columns of X specified in self.columns using\n",
    "        LabelEncoder(). If no columns specified, transforms all\n",
    "        columns in X.\n",
    "        '''\n",
    "        output = X.copy()\n",
    "        if self.columns is not None:\n",
    "            for col in self.columns:\n",
    "                output[col] = p.LabelEncoder().fit_transform(output[col])\n",
    "        else:\n",
    "            for colname,col in output.iteritems():\n",
    "                output[colname] = p.LabelEncoder().fit_transform(col)\n",
    "        return output\n",
    "\n",
    "    def fit_transform(self,X,y=None):\n",
    "        return self.fit(X,y).transform(X)"
   ]
  },
  {
   "cell_type": "code",
   "execution_count": 27,
   "metadata": {},
   "outputs": [],
   "source": [
    "train = MultiColumnLabelEncoder(columns = ['ID','sex', 'marital_status', 'branch_code', 'occupation_code','occupation_category_code','PCODE']).fit_transform(train)"
   ]
  },
  {
   "cell_type": "code",
   "execution_count": 28,
   "metadata": {},
   "outputs": [],
   "source": [
    "test = MultiColumnLabelEncoder(columns = ['ID','sex', 'marital_status', 'branch_code', 'occupation_code','occupation_category_code','PCODE']).fit_transform(test)"
   ]
  },
  {
   "cell_type": "markdown",
   "metadata": {},
   "source": [
    "After these data transformation we can inspect our data now to see its representation."
   ]
  },
  {
   "cell_type": "code",
   "execution_count": 29,
   "metadata": {},
   "outputs": [
    {
     "data": {
      "text/html": [
       "<div>\n",
       "<style scoped>\n",
       "    .dataframe tbody tr th:only-of-type {\n",
       "        vertical-align: middle;\n",
       "    }\n",
       "\n",
       "    .dataframe tbody tr th {\n",
       "        vertical-align: top;\n",
       "    }\n",
       "\n",
       "    .dataframe thead th {\n",
       "        text-align: right;\n",
       "    }\n",
       "</style>\n",
       "<table border=\"1\" class=\"dataframe\">\n",
       "  <thead>\n",
       "    <tr style=\"text-align: right;\">\n",
       "      <th></th>\n",
       "      <th>ID</th>\n",
       "      <th>sex</th>\n",
       "      <th>marital_status</th>\n",
       "      <th>branch_code</th>\n",
       "      <th>occupation_code</th>\n",
       "      <th>occupation_category_code</th>\n",
       "      <th>PCODE</th>\n",
       "      <th>Label</th>\n",
       "      <th>ID X PCODE</th>\n",
       "      <th>member_days</th>\n",
       "      <th>age</th>\n",
       "    </tr>\n",
       "  </thead>\n",
       "  <tbody>\n",
       "    <tr>\n",
       "      <th>215329</th>\n",
       "      <td>10391</td>\n",
       "      <td>1</td>\n",
       "      <td>5</td>\n",
       "      <td>3</td>\n",
       "      <td>3</td>\n",
       "      <td>5</td>\n",
       "      <td>19</td>\n",
       "      <td>1</td>\n",
       "      <td>CUF0ZXK X RVSZ</td>\n",
       "      <td>2797.700468</td>\n",
       "      <td>37</td>\n",
       "    </tr>\n",
       "    <tr>\n",
       "      <th>306467</th>\n",
       "      <td>8844</td>\n",
       "      <td>0</td>\n",
       "      <td>1</td>\n",
       "      <td>6</td>\n",
       "      <td>17</td>\n",
       "      <td>5</td>\n",
       "      <td>14</td>\n",
       "      <td>0</td>\n",
       "      <td>AWU17HY X N2MW</td>\n",
       "      <td>609.700468</td>\n",
       "      <td>40</td>\n",
       "    </tr>\n",
       "  </tbody>\n",
       "</table>\n",
       "</div>"
      ],
      "text/plain": [
       "           ID  sex  marital_status  branch_code  occupation_code  \\\n",
       "215329  10391    1               5            3                3   \n",
       "306467   8844    0               1            6               17   \n",
       "\n",
       "        occupation_category_code  PCODE  Label      ID X PCODE  member_days  \\\n",
       "215329                         5     19      1  CUF0ZXK X RVSZ  2797.700468   \n",
       "306467                         5     14      0  AWU17HY X N2MW   609.700468   \n",
       "\n",
       "        age  \n",
       "215329   37  \n",
       "306467   40  "
      ]
     },
     "execution_count": 29,
     "metadata": {},
     "output_type": "execute_result"
    }
   ],
   "source": [
    "train.sample(2)"
   ]
  },
  {
   "cell_type": "markdown",
   "metadata": {},
   "source": [
    "We can then continue to plot a correlation matrix to understand the correlation of each feature to our target variable to understand which features are worth keeping for model training and which ones can be discarded without great effect on the model training."
   ]
  },
  {
   "cell_type": "code",
   "execution_count": 30,
   "metadata": {
    "scrolled": true
   },
   "outputs": [
    {
     "data": {
      "text/plain": [
       "<AxesSubplot:>"
      ]
     },
     "execution_count": 30,
     "metadata": {},
     "output_type": "execute_result"
    },
    {
     "data": {
      "image/png": "[encoded data removed]",
      "text/plain": [
       "<Figure size 1152x576 with 2 Axes>"
      ]
     },
     "metadata": {},
     "output_type": "display_data"
    }
   ],
   "source": [
    "f, ax = plt.subplots(figsize = (16, 8))\n",
    "corr = train.corr()\n",
    "sns.heatmap(corr, annot = True, fmt = '.3f', annot_kws = {'size':12}, xticklabels = corr.columns.values, yticklabels = corr.columns.values)"
   ]
  },
  {
   "cell_type": "markdown",
   "metadata": {},
   "source": [
    "All our features have a positive correlation to the target variable no matter how low except the occupation_code feature which has a negative correlation to the target variable. We will therefore, drop this feature along with the unique identifier for our customer.\n",
    "\n",
    "We will also procedd to split our features from the target variable in both the train and test sets. Therefore, we will also drop the Label features from each dataset. The created column that will aid in submission will also be dropped from our dataset and will only be concatenated to our submission file."
   ]
  },
  {
   "cell_type": "code",
   "execution_count": 31,
   "metadata": {},
   "outputs": [],
   "source": [
    "y_train = train.Label\n",
    "y_test = test.Label\n",
    "X_train = train.drop(['ID','Label', 'occupation_code', 'ID X PCODE'], axis=1)\n",
    "X_test = test.drop(['ID', 'Label', 'occupation_code', 'ID X PCODE'], axis=1)"
   ]
  },
  {
   "cell_type": "markdown",
   "metadata": {},
   "source": [
    "We can now inspect our datasets while also checking if there is any missing values in our dataset."
   ]
  },
  {
   "cell_type": "code",
   "execution_count": 32,
   "metadata": {},
   "outputs": [
    {
     "name": "stdout",
     "output_type": "stream",
     "text": [
      "(611772, 7) (611772,)\n",
      "(210000, 7) (210000,)\n"
     ]
    }
   ],
   "source": [
    "print(X_train.shape, y_train.shape); print(X_test.shape, y_test.shape)"
   ]
  },
  {
   "cell_type": "code",
   "execution_count": 33,
   "metadata": {},
   "outputs": [
    {
     "name": "stdout",
     "output_type": "stream",
     "text": [
      "<class 'pandas.core.frame.DataFrame'>\n",
      "RangeIndex: 210000 entries, 0 to 209999\n",
      "Data columns (total 7 columns):\n",
      " #   Column                    Non-Null Count   Dtype  \n",
      "---  ------                    --------------   -----  \n",
      " 0   sex                       210000 non-null  int32  \n",
      " 1   marital_status            210000 non-null  int32  \n",
      " 2   branch_code               210000 non-null  int32  \n",
      " 3   occupation_category_code  210000 non-null  int32  \n",
      " 4   PCODE                     210000 non-null  int32  \n",
      " 5   member_days               209979 non-null  float64\n",
      " 6   age                       210000 non-null  float64\n",
      "dtypes: float64(2), int32(5)\n",
      "memory usage: 7.2 MB\n"
     ]
    }
   ],
   "source": [
    "X_test.info()"
   ]
  },
  {
   "cell_type": "markdown",
   "metadata": {},
   "source": [
    "We can see that the member_days feature has some values missing. We will therefore, impute these missing values by filling them with the mean of the column instead of dropping all the 21 rows."
   ]
  },
  {
   "cell_type": "code",
   "execution_count": 34,
   "metadata": {},
   "outputs": [],
   "source": [
    "X_train = X_train.fillna(X_train.mean())\n",
    "X_test = X_test.fillna(X_test.mean())"
   ]
  },
  {
   "cell_type": "code",
   "execution_count": 35,
   "metadata": {},
   "outputs": [
    {
     "data": {
      "text/plain": [
       "False"
      ]
     },
     "execution_count": 35,
     "metadata": {},
     "output_type": "execute_result"
    }
   ],
   "source": [
    "X_test.isnull().values.any()"
   ]
  },
  {
   "cell_type": "markdown",
   "metadata": {},
   "source": [
    "### Data Normalization\n",
    "Now we have data ready for training but each feature has its own scale. We will therefore, normalize our dataset using standardscaler for easy and scaled data to be used for training."
   ]
  },
  {
   "cell_type": "code",
   "execution_count": 36,
   "metadata": {},
   "outputs": [],
   "source": [
    "from sklearn.preprocessing import StandardScaler\n",
    "\n",
    "scaler = StandardScaler()\n",
    "columns = X_train.columns   \n",
    "\n",
    "#normalize train set\n",
    "cols = X_train.values\n",
    "    \n",
    "temp_cols = scaler.fit_transform(cols)\n",
    "X_train = pd.DataFrame(temp_cols, columns = columns)\n",
    "    \n",
    "#normalizing test set   \n",
    "cols = X_test.values\n",
    "    \n",
    "temp_cols = scaler.fit_transform(cols)\n",
    "X_test = pd.DataFrame(temp_cols, columns = columns)"
   ]
  },
  {
   "cell_type": "code",
   "execution_count": 37,
   "metadata": {},
   "outputs": [
    {
     "data": {
      "text/html": [
       "<div>\n",
       "<style scoped>\n",
       "    .dataframe tbody tr th:only-of-type {\n",
       "        vertical-align: middle;\n",
       "    }\n",
       "\n",
       "    .dataframe tbody tr th {\n",
       "        vertical-align: top;\n",
       "    }\n",
       "\n",
       "    .dataframe thead th {\n",
       "        text-align: right;\n",
       "    }\n",
       "</style>\n",
       "<table border=\"1\" class=\"dataframe\">\n",
       "  <thead>\n",
       "    <tr style=\"text-align: right;\">\n",
       "      <th></th>\n",
       "      <th>sex</th>\n",
       "      <th>marital_status</th>\n",
       "      <th>branch_code</th>\n",
       "      <th>occupation_category_code</th>\n",
       "      <th>PCODE</th>\n",
       "      <th>member_days</th>\n",
       "      <th>age</th>\n",
       "    </tr>\n",
       "  </thead>\n",
       "  <tbody>\n",
       "    <tr>\n",
       "      <th>222406</th>\n",
       "      <td>-1.519647</td>\n",
       "      <td>-0.499734</td>\n",
       "      <td>-0.655245</td>\n",
       "      <td>0.714479</td>\n",
       "      <td>1.486301</td>\n",
       "      <td>-0.154835</td>\n",
       "      <td>-1.338589</td>\n",
       "    </tr>\n",
       "    <tr>\n",
       "      <th>508930</th>\n",
       "      <td>0.658048</td>\n",
       "      <td>-0.499734</td>\n",
       "      <td>-0.891903</td>\n",
       "      <td>0.714479</td>\n",
       "      <td>0.165145</td>\n",
       "      <td>-0.676083</td>\n",
       "      <td>0.806081</td>\n",
       "    </tr>\n",
       "    <tr>\n",
       "      <th>182481</th>\n",
       "      <td>0.658048</td>\n",
       "      <td>-0.499734</td>\n",
       "      <td>-0.418587</td>\n",
       "      <td>0.714479</td>\n",
       "      <td>1.651446</td>\n",
       "      <td>0.897686</td>\n",
       "      <td>0.162680</td>\n",
       "    </tr>\n",
       "    <tr>\n",
       "      <th>275835</th>\n",
       "      <td>0.658048</td>\n",
       "      <td>-0.499734</td>\n",
       "      <td>-0.418587</td>\n",
       "      <td>0.714479</td>\n",
       "      <td>0.495434</td>\n",
       "      <td>-1.191603</td>\n",
       "      <td>0.698847</td>\n",
       "    </tr>\n",
       "    <tr>\n",
       "      <th>531429</th>\n",
       "      <td>0.658048</td>\n",
       "      <td>-0.499734</td>\n",
       "      <td>1.947993</td>\n",
       "      <td>0.714479</td>\n",
       "      <td>-0.165145</td>\n",
       "      <td>1.416071</td>\n",
       "      <td>-0.373488</td>\n",
       "    </tr>\n",
       "  </tbody>\n",
       "</table>\n",
       "</div>"
      ],
      "text/plain": [
       "             sex  marital_status  branch_code  occupation_category_code  \\\n",
       "222406 -1.519647       -0.499734    -0.655245                  0.714479   \n",
       "508930  0.658048       -0.499734    -0.891903                  0.714479   \n",
       "182481  0.658048       -0.499734    -0.418587                  0.714479   \n",
       "275835  0.658048       -0.499734    -0.418587                  0.714479   \n",
       "531429  0.658048       -0.499734     1.947993                  0.714479   \n",
       "\n",
       "           PCODE  member_days       age  \n",
       "222406  1.486301    -0.154835 -1.338589  \n",
       "508930  0.165145    -0.676083  0.806081  \n",
       "182481  1.651446     0.897686  0.162680  \n",
       "275835  0.495434    -1.191603  0.698847  \n",
       "531429 -0.165145     1.416071 -0.373488  "
      ]
     },
     "execution_count": 37,
     "metadata": {},
     "output_type": "execute_result"
    }
   ],
   "source": [
    "X_train.sample(5)"
   ]
  },
  {
   "cell_type": "markdown",
   "metadata": {},
   "source": [
    "### Handling Class Imbalance\n",
    "Finally, before proceeding to model training let's create a new dataset that handles the class imbalance we noticed earlier so that we can test each model with a balanced and with an imbalanced data to test the performance of the model.\n",
    "\n",
    "To handel the class imbalance, we will oversample our data using SMOTE technique. This technique works by creating synthetic data based on the current dataset."
   ]
  },
  {
   "cell_type": "code",
   "execution_count": 38,
   "metadata": {},
   "outputs": [
    {
     "name": "stdout",
     "output_type": "stream",
     "text": [
      "length of oversampled data is  1090838\n",
      "Number of Label 0 in oversampled data  1090838\n",
      "Number of Label 1 in oversampled data  1090838\n",
      "Proportion of Label 0 data in oversampled data is  0.5\n",
      "Proportion of Label 1 data in oversampled data is  0.5\n"
     ]
    }
   ],
   "source": [
    "from imblearn.over_sampling import SMOTE\n",
    "\n",
    "os = SMOTE(random_state = 0)\n",
    "\n",
    "columns = X_train.columns\n",
    "os_data_X, os_data_y = os.fit_sample(X_train, y_train)\n",
    "os_data_X = pd.DataFrame(data=os_data_X, columns=columns)\n",
    "os_data_y = pd.DataFrame(data=os_data_y, columns=['Label'])\n",
    "\n",
    "#we can inspect the numbers of our data\n",
    "print('length of oversampled data is ', len(os_data_X))\n",
    "print('Number of Label 0 in oversampled data ', len(os_data_y['Label']==0))\n",
    "print('Number of Label 1 in oversampled data ', len(os_data_y['Label']==1))\n",
    "print('Proportion of Label 0 data in oversampled data is ', len(os_data_y[os_data_y['Label']==0])/len(os_data_X))\n",
    "print('Proportion of Label 1 data in oversampled data is ', len(os_data_y[os_data_y['Label']==1])/len(os_data_X))"
   ]
  },
  {
   "cell_type": "code",
   "execution_count": 39,
   "metadata": {},
   "outputs": [
    {
     "name": "stdout",
     "output_type": "stream",
     "text": [
      "(1090838, 7) (1090838,)\n",
      "(210000, 7) (210000,)\n"
     ]
    }
   ],
   "source": [
    "os_data_y = os_data_y.Label\n",
    "print(os_data_X.shape, os_data_y.shape)\n",
    "print(X_test.shape, y_test.shape)"
   ]
  },
  {
   "cell_type": "markdown",
   "metadata": {},
   "source": [
    "Now we have our two datasets ready for model training; an oversampled data and a normal pre-processed data.\n",
    "The next section of the challenge will test different Machine Learning Algorithms, apply hyperparameter tuning and other techniques to enhance the performance of the model."
   ]
  }
 ],
 "metadata": {
  "kernelspec": {
   "display_name": "Python 3",
   "language": "python",
   "name": "python3"
  },
  "language_info": {
   "codemirror_mode": {
    "name": "ipython",
    "version": 3
   },
   "file_extension": ".py",
   "mimetype": "text/x-python",
   "name": "python",
   "nbconvert_exporter": "python",
   "pygments_lexer": "ipython3",
   "version": "3.7.6"
  }
 },
 "nbformat": 4,
 "nbformat_minor": 4
}
