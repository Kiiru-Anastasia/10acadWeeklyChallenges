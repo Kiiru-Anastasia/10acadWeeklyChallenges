{
 "cells": [
  {
   "cell_type": "markdown",
   "metadata": {},
   "source": [
    "# Power BI Dashboard Task"
   ]
  },
  {
   "cell_type": "markdown",
   "metadata": {},
   "source": [
    "### Section 1: Explore the dashboard KPIs visualization challenge and answer the following questions\n",
    "* What is the total number of subscribers in the dataset?\n",
    "\n",
    "**751.06K**\n",
    "* What is the total revenue?\n",
    "\n",
    "**5.22bn**\n",
    "* What is the total number of calls for MTN Ipulse tariff type?\n",
    "\n",
    "**20.11T**\n",
    "* Which cluster_tag is the top voice user?\n",
    "\n",
    "**Dormant**\n",
    "* What is the average voice usage for all the customers?\n",
    "\n",
    "**45.71bn**\n",
    "* What is the share of weekday onnet voice usage?\n",
    "\n",
    "**71.08**\n",
    "* What is the share of weekend onnet voice usage?\n",
    "\n",
    "**70.62**\n",
    "* What is the share of weekend offnet voice usage?\n",
    "\n",
    "**28.95**\n",
    "* What is the share of weekend voice usage (secs)?\n",
    "\n",
    "**0.00**\n",
    "* Which cluster has the highest number of calls?\n",
    "\n",
    "**Platinum**\n",
    "* Which cluster has the lowest voice usage?\n",
    "\n",
    "**Platinum**\n",
    "* Which cluster has the highest night usage?\n",
    "\n",
    "**Platinum**"
   ]
  },
  {
   "cell_type": "markdown",
   "metadata": {},
   "source": [
    "### Section 2: Explore the dashboard KPIs visualization challenge and answer the following questions\n",
    "* What is the average data usage?\n",
    "\n",
    "**1.58T**\n",
    "* What is the average data usage for women?\n",
    "\n",
    "**1.58T**\n",
    "* What is the average data usage in ABIA state?\n",
    "\n",
    "**1.58T**\n",
    "* What is the average data usage in BAUCHI state?\n",
    "\n",
    "**1.58T**\n",
    "* Which cluster has the highest in bundle data usage?\n",
    "\n",
    "**Gold**\n",
    "* What is the average data revenue?\n",
    "\n",
    "**50.58K**\n",
    "* What is the average data usage for microsegment 1.10?\n",
    "\n",
    "**1.58T**\n",
    "* What is the average data usage for the microsegment 0.80? \n",
    "\n",
    "**1.58T**"
   ]
  },
  {
   "cell_type": "markdown",
   "metadata": {},
   "source": [
    "### Section 3: Explore the dashboard KPIs visualization challenge and answer the following questions\n",
    "* What is the total lifetime value of the customers?\n",
    "\n",
    "**10.36bn**\n",
    "* What is the average sms usage?\n",
    "\n",
    "**23.68M**\n",
    "* What can you diagnose when looking on voice usage trend?\n",
    "\n",
    "**The voice usage trend flactuates across the months starting high at the beginning, drastically falling in the middle and rising again towards the end. It shows a higher voice usage at the beginning and at the end of the year and a lower usage at the middle of the year.**\n",
    "* What can you diagnose when looking on sms usage trend?\n",
    "\n",
    "**The sms usage trend also flactuates across the months starting high at the beginning, drastically falling in the middle and rising again towards the end. The trend shows a higher sms usage at the beginning and at the end of the year and a lower usage at the middle of the year.**"
   ]
  }
 ],
 "metadata": {
  "kernelspec": {
   "display_name": "Python 3",
   "language": "python",
   "name": "python3"
  },
  "language_info": {
   "codemirror_mode": {
    "name": "ipython",
    "version": 3
   },
   "file_extension": ".py",
   "mimetype": "text/x-python",
   "name": "python",
   "nbconvert_exporter": "python",
   "pygments_lexer": "ipython3",
   "version": "3.7.6"
  }
 },
 "nbformat": 4,
 "nbformat_minor": 4
}
