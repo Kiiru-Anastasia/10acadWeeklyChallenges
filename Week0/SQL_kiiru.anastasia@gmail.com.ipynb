{
 "cells": [
  {
   "cell_type": "markdown",
   "metadata": {},
   "source": [
    "# SQL DATA ANALYSIS TASK"
   ]
  },
  {
   "cell_type": "markdown",
   "metadata": {},
   "source": [
    "# Context\n",
    "Fenix is a company that is in renewable energy. To this end, it sells solar kits to populations who are in need. Customers have the option of paying for the kit in cash or on credit. If the customer chooses to buy on credit, he can choose between one year (360 days) or two years (720). He is then asked to pay an amount per day (daily_rate), this amount depending on the duration of the loan and the type of kit he has chosen and corresponds to a day of light. So every time he pays that amount, he has a day of light. After 24 hours the system hangs and it has to make another payment to take advantage of the light. He can decide to pay for more than one day of light. The day number is then the whole part of the amount / daily rate ratio. After this number of days, the system still locks. When a customer spends more than 30 days without light, he is considered inactive. Paid vs Expected (PvE) means the ratio between the total amount paid by the client and the amount he should have paid up to date. It allows to appreciate the recovery."
   ]
  },
  {
   "cell_type": "markdown",
   "metadata": {},
   "source": [
    "Let's consider the following tables\n",
    "\n",
    "Loan_current_daitails\n",
    "\n",
    "loan_id\t|customer_id|daily_rate|days_elapsed|Days_til_lock_out|Total_paid\n",
    "--------|-----------|----------|------------|-----------------|----------\n",
    "loan_id_1|customer_id_1|daily_rate_1|days_elapsed_1|Days_til_lock_out_1|Total_paid_1\n",
    "loan_id_2|customer_id_2|daily_rate_2|days_elapsed_2|Days_til_lock_out_2|Total_paid_2\n",
    ".........|.............|............|..............|...................|............\n",
    "loan_id_n|customer_id_n\t|daily_rate_n|days_elapsed_n|Days_til_lock_out_n|Total_paid_n\n",
    "\n",
    "\n",
    "Person_democraphic\n",
    "\n",
    "customer_id\t|country|\tregion|\tprofession\n",
    "------------|-------|---------|-----------\n",
    "customer_id_1|\tCountry_1\t|Region_1\t|profession_1\n",
    ".............|\t............|..........\t|............\n",
    "customer_id_j|\tCountry_j|\tRegion_j\t|profession_j\n",
    "\n",
    "\n",
    "Sales_details\n",
    "\n",
    "loan_id\t|Product_type\t|Date_fullfiled\t|loan_duration\n",
    "--------|----------------|--------------|-------------\n",
    "loan_id_1\t|Product_type_1\t|Date_fullfiled_1\t|loan_duration_1\n",
    "...|\t...\t|...\t|...\n",
    "loan_id_n|\tProduct_type_n|\tDate_fullfiled_n|\tloan_duration_n"
   ]
  },
  {
   "cell_type": "markdown",
   "metadata": {},
   "source": [
    "### Tables description\n",
    "\n",
    "* **Loan_id:** unique loan identifier\n",
    "\n",
    "* **Customer_id:** unique customer identifier\n",
    "\n",
    "* **Days_elapsed:** the number of days the client spends with us\n",
    "\n",
    "* **Daily_rate:** expected amount from customer per day\n",
    "\n",
    "* **Days_til_lock_out:** If positive, then corresponds to the number of days of light remaining before the system hangs. If negative, corresponds to the number of days since the system was blocked (the client has been without light since this number of days)\n",
    "\n",
    "* **Total_paid:** total amount to be paid by the customer\n",
    "\n",
    "* **Country:** Customer's country\n",
    "\n",
    "* **Region:** customer department\n",
    "\n",
    "* **Profession:** client's profession\n",
    "\n",
    "* **Product_type:** the type of kit purchased by the customer\n",
    "\n",
    "* **Loan_duration:** the duration of the customer's loan (360 or 720 days)\n",
    "\n",
    "* **Date_fullfiled:** the date of the sale"
   ]
  },
  {
   "cell_type": "markdown",
   "metadata": {},
   "source": [
    "### The datasets\n",
    "The datasets exist in csv formats and can be downloaded and saved on disk"
   ]
  },
  {
   "cell_type": "code",
   "execution_count": 17,
   "metadata": {},
   "outputs": [
    {
     "name": "stdout",
     "output_type": "stream",
     "text": [
      "The sql extension is already loaded. To reload it, use:\n",
      "  %reload_ext sql\n"
     ]
    }
   ],
   "source": [
    "#!pip install ipython-sql\n",
    "%load_ext sql\n",
    "%sql sqlite:///testdb.sqlite"
   ]
  },
  {
   "cell_type": "code",
   "execution_count": 18,
   "metadata": {},
   "outputs": [
    {
     "name": "stdout",
     "output_type": "stream",
     "text": [
      " * sqlite:///testdb.sqlite\n",
      "Done.\n",
      "Done.\n",
      "Done.\n"
     ]
    },
    {
     "data": {
      "text/plain": [
       "[]"
      ]
     },
     "execution_count": 18,
     "metadata": {},
     "output_type": "execute_result"
    }
   ],
   "source": [
    "%%sql\n",
    "DROP TABLE IF EXISTS Loan_current_daitails;\n",
    "DROP TABLE IF EXISTS Person_democraphic;\n",
    "DROP TABLE IF EXISTS Sales_details;"
   ]
  },
  {
   "cell_type": "code",
   "execution_count": 82,
   "metadata": {},
   "outputs": [],
   "source": [
    "import pandas as pd\n",
    "import sqlite3\n",
    "\n",
    "conn = sqlite3.connect(\"testdb.sqlite\")\n",
    "customers = pd.read_csv('Loan_current_daitails.csv')\n",
    "orders = pd.read_csv('Person_democraphic.csv')\n",
    "salesman = pd.read_csv('Sales_details.csv')\n",
    "\n",
    "customers.to_sql(\"Loan_current_daitails\", conn, index=False, if_exists=\"replace\")\n",
    "orders.to_sql(\"Person_democraphic\", conn, index=False, if_exists=\"replace\")\n",
    "salesman.to_sql(\"Sales_details\", conn, index=False, if_exists=\"replace\")"
   ]
  },
  {
   "cell_type": "markdown",
   "metadata": {},
   "source": [
    "### Write a SQL code to determine the total number of loans on the one hand and the total number of customers on the other"
   ]
  },
  {
   "cell_type": "code",
   "execution_count": 55,
   "metadata": {},
   "outputs": [
    {
     "name": "stdout",
     "output_type": "stream",
     "text": [
      " * sqlite:///testdb.sqlite\n",
      "Done.\n"
     ]
    },
    {
     "data": {
      "text/html": [
       "<table>\n",
       "    <tr>\n",
       "        <th>loans</th>\n",
       "    </tr>\n",
       "    <tr>\n",
       "        <td>5000</td>\n",
       "    </tr>\n",
       "</table>"
      ],
      "text/plain": [
       "[(5000,)]"
      ]
     },
     "execution_count": 55,
     "metadata": {},
     "output_type": "execute_result"
    }
   ],
   "source": [
    "%%sql\n",
    "SELECT COUNT(*) loans FROM Loan_current_daitails;"
   ]
  },
  {
   "cell_type": "code",
   "execution_count": 38,
   "metadata": {},
   "outputs": [
    {
     "name": "stdout",
     "output_type": "stream",
     "text": [
      " * sqlite:///testdb.sqlite\n",
      "Done.\n"
     ]
    },
    {
     "data": {
      "text/html": [
       "<table>\n",
       "    <tr>\n",
       "        <th>customers</th>\n",
       "    </tr>\n",
       "    <tr>\n",
       "        <td>4979</td>\n",
       "    </tr>\n",
       "</table>"
      ],
      "text/plain": [
       "[(4979,)]"
      ]
     },
     "execution_count": 38,
     "metadata": {},
     "output_type": "execute_result"
    }
   ],
   "source": [
    "%%sql\n",
    "SELECT COUNT(*) customers FROM Person_democraphic;"
   ]
  },
  {
   "cell_type": "markdown",
   "metadata": {},
   "source": [
    "### Write a SQL code to determine the total number of loans by type of kit"
   ]
  },
  {
   "cell_type": "code",
   "execution_count": 58,
   "metadata": {},
   "outputs": [
    {
     "name": "stdout",
     "output_type": "stream",
     "text": [
      " * sqlite:///testdb.sqlite\n",
      "Done.\n"
     ]
    },
    {
     "data": {
      "text/html": [
       "<table>\n",
       "    <tr>\n",
       "        <th>kit</th>\n",
       "        <th>Number_of_Loans</th>\n",
       "    </tr>\n",
       "    <tr>\n",
       "        <td>Fenix 2</td>\n",
       "        <td>841</td>\n",
       "    </tr>\n",
       "    <tr>\n",
       "        <td>Fenix 3</td>\n",
       "        <td>974</td>\n",
       "    </tr>\n",
       "    <tr>\n",
       "        <td>Fenix Power 2+ Tondeuse</td>\n",
       "        <td>18</td>\n",
       "    </tr>\n",
       "    <tr>\n",
       "        <td>Fenix Power 4 + Woofer BJ</td>\n",
       "        <td>35</td>\n",
       "    </tr>\n",
       "    <tr>\n",
       "        <td>Fenix Power TV 19in FTA BJ</td>\n",
       "        <td>14</td>\n",
       "    </tr>\n",
       "    <tr>\n",
       "        <td>Fenix Power TV 19in FTA Upgrade, BJ</td>\n",
       "        <td>28</td>\n",
       "    </tr>\n",
       "    <tr>\n",
       "        <td>Fenix Power TV 24in FTA BJ</td>\n",
       "        <td>634</td>\n",
       "    </tr>\n",
       "    <tr>\n",
       "        <td>Fenix Power TV 24in FTA Upgrade, BJ</td>\n",
       "        <td>177</td>\n",
       "    </tr>\n",
       "    <tr>\n",
       "        <td>Fenix Radio +3</td>\n",
       "        <td>1791</td>\n",
       "    </tr>\n",
       "    <tr>\n",
       "        <td>Fenix Radio +5</td>\n",
       "        <td>422</td>\n",
       "    </tr>\n",
       "    <tr>\n",
       "        <td>Fenix Woofer +3</td>\n",
       "        <td>32</td>\n",
       "    </tr>\n",
       "    <tr>\n",
       "        <td>Fenix Woofer +3 (NEW)</td>\n",
       "        <td>8</td>\n",
       "    </tr>\n",
       "    <tr>\n",
       "        <td>Hors Garantie BJ</td>\n",
       "        <td>14</td>\n",
       "    </tr>\n",
       "    <tr>\n",
       "        <td>Out-of-warranty swap - SmartLife</td>\n",
       "        <td>2</td>\n",
       "    </tr>\n",
       "    <tr>\n",
       "        <td>Upgrade Fenix Boost 2 + Tondeuse</td>\n",
       "        <td>2</td>\n",
       "    </tr>\n",
       "    <tr>\n",
       "        <td>Upgrade Fenix Radio +3</td>\n",
       "        <td>5</td>\n",
       "    </tr>\n",
       "    <tr>\n",
       "        <td>Upgrade Fenix Woofer +1</td>\n",
       "        <td>1</td>\n",
       "    </tr>\n",
       "    <tr>\n",
       "        <td>Upgrade Fenix Woofer+2 BJ</td>\n",
       "        <td>2</td>\n",
       "    </tr>\n",
       "</table>"
      ],
      "text/plain": [
       "[('Fenix 2', 841),\n",
       " ('Fenix 3', 974),\n",
       " ('Fenix Power 2+ Tondeuse', 18),\n",
       " ('Fenix Power 4 + Woofer BJ', 35),\n",
       " ('Fenix Power TV 19in FTA BJ', 14),\n",
       " ('Fenix Power TV 19in FTA Upgrade, BJ', 28),\n",
       " ('Fenix Power TV 24in FTA BJ', 634),\n",
       " ('Fenix Power TV 24in FTA Upgrade, BJ', 177),\n",
       " ('Fenix Radio +3', 1791),\n",
       " ('Fenix Radio +5', 422),\n",
       " ('Fenix Woofer +3', 32),\n",
       " ('Fenix Woofer +3 (NEW)', 8),\n",
       " ('Hors Garantie BJ', 14),\n",
       " ('Out-of-warranty swap - SmartLife', 2),\n",
       " ('Upgrade Fenix Boost 2 + Tondeuse', 2),\n",
       " ('Upgrade Fenix Radio +3', 5),\n",
       " ('Upgrade Fenix Woofer +1', 1),\n",
       " ('Upgrade Fenix Woofer+2 BJ', 2)]"
      ]
     },
     "execution_count": 58,
     "metadata": {},
     "output_type": "execute_result"
    }
   ],
   "source": [
    "%%sql\n",
    "SELECT product_type kit, COUNT(loan_id) Number_of_Loans FROM Sales_details GROUP BY product_type;"
   ]
  },
  {
   "cell_type": "markdown",
   "metadata": {},
   "source": [
    "### Write SQL code to determine the number of inactive loans"
   ]
  },
  {
   "cell_type": "code",
   "execution_count": 59,
   "metadata": {},
   "outputs": [
    {
     "name": "stdout",
     "output_type": "stream",
     "text": [
      " * sqlite:///testdb.sqlite\n",
      "Done.\n"
     ]
    },
    {
     "data": {
      "text/html": [
       "<table>\n",
       "    <tr>\n",
       "        <th>Inactive_Loans</th>\n",
       "    </tr>\n",
       "    <tr>\n",
       "        <td>626</td>\n",
       "    </tr>\n",
       "</table>"
      ],
      "text/plain": [
       "[(626,)]"
      ]
     },
     "execution_count": 59,
     "metadata": {},
     "output_type": "execute_result"
    }
   ],
   "source": [
    "%%sql\n",
    "SELECT COUNT(loan_id) Inactive_Loans FROM Loan_current_daitails WHERE days_til_lockout < -30"
   ]
  },
  {
   "cell_type": "markdown",
   "metadata": {},
   "source": [
    "### Write a SQL code to determine the regions where the total amount of payments exceeds 1,000,000"
   ]
  },
  {
   "cell_type": "code",
   "execution_count": 69,
   "metadata": {},
   "outputs": [
    {
     "name": "stdout",
     "output_type": "stream",
     "text": [
      " * sqlite:///testdb.sqlite\n",
      "Done.\n"
     ]
    },
    {
     "data": {
      "text/html": [
       "<table>\n",
       "    <tr>\n",
       "        <th>region</th>\n",
       "        <th>Total_Payment</th>\n",
       "    </tr>\n",
       "    <tr>\n",
       "        <td>Alibori</td>\n",
       "        <td>8559985</td>\n",
       "    </tr>\n",
       "    <tr>\n",
       "        <td>Atacora</td>\n",
       "        <td>7802685</td>\n",
       "    </tr>\n",
       "    <tr>\n",
       "        <td>Atlantique</td>\n",
       "        <td>51293780</td>\n",
       "    </tr>\n",
       "    <tr>\n",
       "        <td>Borgou</td>\n",
       "        <td>18947292</td>\n",
       "    </tr>\n",
       "    <tr>\n",
       "        <td>Collines</td>\n",
       "        <td>11904427</td>\n",
       "    </tr>\n",
       "    <tr>\n",
       "        <td>Couffo</td>\n",
       "        <td>4812070</td>\n",
       "    </tr>\n",
       "    <tr>\n",
       "        <td>Donga</td>\n",
       "        <td>9936982</td>\n",
       "    </tr>\n",
       "    <tr>\n",
       "        <td>Littoral</td>\n",
       "        <td>3980519</td>\n",
       "    </tr>\n",
       "    <tr>\n",
       "        <td>Mono</td>\n",
       "        <td>11621621</td>\n",
       "    </tr>\n",
       "    <tr>\n",
       "        <td>Oueme</td>\n",
       "        <td>30027194</td>\n",
       "    </tr>\n",
       "    <tr>\n",
       "        <td>Plateau</td>\n",
       "        <td>9691206</td>\n",
       "    </tr>\n",
       "    <tr>\n",
       "        <td>Zou</td>\n",
       "        <td>9540211</td>\n",
       "    </tr>\n",
       "</table>"
      ],
      "text/plain": [
       "[('Alibori', 8559985),\n",
       " ('Atacora', 7802685),\n",
       " ('Atlantique', 51293780),\n",
       " ('Borgou', 18947292),\n",
       " ('Collines', 11904427),\n",
       " ('Couffo', 4812070),\n",
       " ('Donga', 9936982),\n",
       " ('Littoral', 3980519),\n",
       " ('Mono', 11621621),\n",
       " ('Oueme', 30027194),\n",
       " ('Plateau', 9691206),\n",
       " ('Zou', 9540211)]"
      ]
     },
     "execution_count": 69,
     "metadata": {},
     "output_type": "execute_result"
    }
   ],
   "source": [
    "%%sql\n",
    "SELECT p.region, SUM(l.total_paid) Total_Payment FROM Person_democraphic p, Loan_current_daitails l WHERE p.customer_id = l.customer_id GROUP BY p.region HAVING Total_payment > 1000000;"
   ]
  },
  {
   "cell_type": "markdown",
   "metadata": {},
   "source": [
    "### Write a SQL code to classify by region and in ascending order, the loans according to the total amount paid"
   ]
  },
  {
   "cell_type": "code",
   "execution_count": 72,
   "metadata": {},
   "outputs": [
    {
     "name": "stdout",
     "output_type": "stream",
     "text": [
      " * sqlite:///testdb.sqlite\n",
      "Done.\n"
     ]
    },
    {
     "data": {
      "text/html": [
       "<table>\n",
       "    <tr>\n",
       "        <th>region</th>\n",
       "        <th>Total_Payment</th>\n",
       "    </tr>\n",
       "    <tr>\n",
       "        <td>Littoral</td>\n",
       "        <td>3980519</td>\n",
       "    </tr>\n",
       "    <tr>\n",
       "        <td>Couffo</td>\n",
       "        <td>4812070</td>\n",
       "    </tr>\n",
       "    <tr>\n",
       "        <td>Atacora</td>\n",
       "        <td>7802685</td>\n",
       "    </tr>\n",
       "    <tr>\n",
       "        <td>Alibori</td>\n",
       "        <td>8559985</td>\n",
       "    </tr>\n",
       "    <tr>\n",
       "        <td>Zou</td>\n",
       "        <td>9540211</td>\n",
       "    </tr>\n",
       "    <tr>\n",
       "        <td>Plateau</td>\n",
       "        <td>9691206</td>\n",
       "    </tr>\n",
       "    <tr>\n",
       "        <td>Donga</td>\n",
       "        <td>9936982</td>\n",
       "    </tr>\n",
       "    <tr>\n",
       "        <td>Mono</td>\n",
       "        <td>11621621</td>\n",
       "    </tr>\n",
       "    <tr>\n",
       "        <td>Collines</td>\n",
       "        <td>11904427</td>\n",
       "    </tr>\n",
       "    <tr>\n",
       "        <td>Borgou</td>\n",
       "        <td>18947292</td>\n",
       "    </tr>\n",
       "    <tr>\n",
       "        <td>Oueme</td>\n",
       "        <td>30027194</td>\n",
       "    </tr>\n",
       "    <tr>\n",
       "        <td>Atlantique</td>\n",
       "        <td>51293780</td>\n",
       "    </tr>\n",
       "</table>"
      ],
      "text/plain": [
       "[('Littoral', 3980519),\n",
       " ('Couffo', 4812070),\n",
       " ('Atacora', 7802685),\n",
       " ('Alibori', 8559985),\n",
       " ('Zou', 9540211),\n",
       " ('Plateau', 9691206),\n",
       " ('Donga', 9936982),\n",
       " ('Mono', 11621621),\n",
       " ('Collines', 11904427),\n",
       " ('Borgou', 18947292),\n",
       " ('Oueme', 30027194),\n",
       " ('Atlantique', 51293780)]"
      ]
     },
     "execution_count": 72,
     "metadata": {},
     "output_type": "execute_result"
    }
   ],
   "source": [
    "%%sql\n",
    "SELECT p.region, SUM(l.total_paid) Total_Payment FROM Person_democraphic p, Loan_current_daitails l WHERE p.customer_id = l.customer_id GROUP BY p.region ORDER BY Total_Payment ASC "
   ]
  },
  {
   "cell_type": "markdown",
   "metadata": {},
   "source": [
    "\n",
    "### Write a SQL code to determine the top 10 occupations by region with the highest total amount of payments"
   ]
  },
  {
   "cell_type": "code",
   "execution_count": 92,
   "metadata": {},
   "outputs": [
    {
     "name": "stdout",
     "output_type": "stream",
     "text": [
      " * sqlite:///testdb.sqlite\n",
      "Done.\n"
     ]
    },
    {
     "data": {
      "text/html": [
       "<table>\n",
       "    <tr>\n",
       "        <th>region</th>\n",
       "        <th>Profession</th>\n",
       "        <th>Total_Payment</th>\n",
       "    </tr>\n",
       "    <tr>\n",
       "        <td>Alibori</td>\n",
       "        <td>Doctor</td>\n",
       "        <td>17445994</td>\n",
       "    </tr>\n",
       "    <tr>\n",
       "        <td>Atlantique</td>\n",
       "        <td>Security agent</td>\n",
       "        <td>16937067</td>\n",
       "    </tr>\n",
       "    <tr>\n",
       "        <td>Borgou</td>\n",
       "        <td>Ingenieur</td>\n",
       "        <td>17855161</td>\n",
       "    </tr>\n",
       "    <tr>\n",
       "        <td>Borgou</td>\n",
       "        <td>Driver</td>\n",
       "        <td>17376164</td>\n",
       "    </tr>\n",
       "    <tr>\n",
       "        <td>Borgou</td>\n",
       "        <td>Statistian</td>\n",
       "        <td>16998896</td>\n",
       "    </tr>\n",
       "    <tr>\n",
       "        <td>Mono</td>\n",
       "        <td>Farmer</td>\n",
       "        <td>17507403</td>\n",
       "    </tr>\n",
       "    <tr>\n",
       "        <td>Oueme</td>\n",
       "        <td>Teacher</td>\n",
       "        <td>19394189</td>\n",
       "    </tr>\n",
       "    <tr>\n",
       "        <td>Oueme</td>\n",
       "        <td>Cmmercial</td>\n",
       "        <td>17496730</td>\n",
       "    </tr>\n",
       "    <tr>\n",
       "        <td>Oueme</td>\n",
       "        <td>Tehnician</td>\n",
       "        <td>17474037</td>\n",
       "    </tr>\n",
       "    <tr>\n",
       "        <td>Zou</td>\n",
       "        <td>Nurse</td>\n",
       "        <td>19632331</td>\n",
       "    </tr>\n",
       "</table>"
      ],
      "text/plain": [
       "[('Alibori', 'Doctor', 17445994),\n",
       " ('Atlantique', 'Security agent', 16937067),\n",
       " ('Borgou', 'Ingenieur', 17855161),\n",
       " ('Borgou', 'Driver', 17376164),\n",
       " ('Borgou', 'Statistian', 16998896),\n",
       " ('Mono', 'Farmer', 17507403),\n",
       " ('Oueme', 'Teacher', 19394189),\n",
       " ('Oueme', 'Cmmercial', 17496730),\n",
       " ('Oueme', 'Tehnician', 17474037),\n",
       " ('Zou', 'Nurse', 19632331)]"
      ]
     },
     "execution_count": 92,
     "metadata": {},
     "output_type": "execute_result"
    }
   ],
   "source": [
    "%%sql\n",
    "SELECT p.region, p.Profession, SUM(l.total_paid) Total_Payment FROM Person_democraphic p, Loan_current_daitails l WHERE p.customer_id = l.customer_id GROUP BY p.Profession ORDER BY p.region, Total_Payment DESC;"
   ]
  },
  {
   "cell_type": "code",
   "execution_count": 112,
   "metadata": {},
   "outputs": [
    {
     "name": "stdout",
     "output_type": "stream",
     "text": [
      " * sqlite:///testdb.sqlite\n",
      "Done.\n"
     ]
    },
    {
     "data": {
      "text/html": [
       "<table>\n",
       "    <tr>\n",
       "        <th>region</th>\n",
       "        <th>Profession</th>\n",
       "        <th>Total_Payment</th>\n",
       "    </tr>\n",
       "    <tr>\n",
       "        <td>Alibori</td>\n",
       "        <td>Ingenieur</td>\n",
       "        <td>1065369</td>\n",
       "    </tr>\n",
       "    <tr>\n",
       "        <td>Alibori</td>\n",
       "        <td>Teacher</td>\n",
       "        <td>1025911</td>\n",
       "    </tr>\n",
       "    <tr>\n",
       "        <td>Alibori</td>\n",
       "        <td>Tehnician</td>\n",
       "        <td>979185</td>\n",
       "    </tr>\n",
       "    <tr>\n",
       "        <td>Alibori</td>\n",
       "        <td>Cmmercial</td>\n",
       "        <td>964132</td>\n",
       "    </tr>\n",
       "    <tr>\n",
       "        <td>Alibori</td>\n",
       "        <td>Statistian</td>\n",
       "        <td>953493</td>\n",
       "    </tr>\n",
       "    <tr>\n",
       "        <td>Alibori</td>\n",
       "        <td>Nurse</td>\n",
       "        <td>903046</td>\n",
       "    </tr>\n",
       "    <tr>\n",
       "        <td>Alibori</td>\n",
       "        <td>Doctor</td>\n",
       "        <td>825486</td>\n",
       "    </tr>\n",
       "    <tr>\n",
       "        <td>Alibori</td>\n",
       "        <td>Driver</td>\n",
       "        <td>767897</td>\n",
       "    </tr>\n",
       "    <tr>\n",
       "        <td>Alibori</td>\n",
       "        <td>Farmer</td>\n",
       "        <td>566846</td>\n",
       "    </tr>\n",
       "    <tr>\n",
       "        <td>Alibori</td>\n",
       "        <td>Security agent</td>\n",
       "        <td>508620</td>\n",
       "    </tr>\n",
       "</table>"
      ],
      "text/plain": [
       "[('Alibori', 'Ingenieur', 1065369),\n",
       " ('Alibori', 'Teacher', 1025911),\n",
       " ('Alibori', 'Tehnician', 979185),\n",
       " ('Alibori', 'Cmmercial', 964132),\n",
       " ('Alibori', 'Statistian', 953493),\n",
       " ('Alibori', 'Nurse', 903046),\n",
       " ('Alibori', 'Doctor', 825486),\n",
       " ('Alibori', 'Driver', 767897),\n",
       " ('Alibori', 'Farmer', 566846),\n",
       " ('Alibori', 'Security agent', 508620)]"
      ]
     },
     "execution_count": 112,
     "metadata": {},
     "output_type": "execute_result"
    }
   ],
   "source": [
    "%%sql\n",
    "--#Top 10 participants in Alibori\n",
    "SELECT p.region, p.Profession, SUM(l.total_paid) Total_Payment FROM Person_democraphic p, Loan_current_daitails l WHERE p.customer_id = l.customer_id AND p.region = 'Alibori' GROUP BY p.Profession ORDER BY Total_Payment DESC LIMIT 10;"
   ]
  },
  {
   "cell_type": "code",
   "execution_count": 114,
   "metadata": {},
   "outputs": [
    {
     "name": "stdout",
     "output_type": "stream",
     "text": [
      " * sqlite:///testdb.sqlite\n",
      "Done.\n"
     ]
    },
    {
     "data": {
      "text/html": [
       "<table>\n",
       "    <tr>\n",
       "        <th>region</th>\n",
       "        <th>Profession</th>\n",
       "        <th>Total_Payment</th>\n",
       "    </tr>\n",
       "    <tr>\n",
       "        <td>Atacora</td>\n",
       "        <td>Nurse</td>\n",
       "        <td>1240646</td>\n",
       "    </tr>\n",
       "    <tr>\n",
       "        <td>Atacora</td>\n",
       "        <td>Teacher</td>\n",
       "        <td>1198674</td>\n",
       "    </tr>\n",
       "    <tr>\n",
       "        <td>Atacora</td>\n",
       "        <td>Doctor</td>\n",
       "        <td>933223</td>\n",
       "    </tr>\n",
       "    <tr>\n",
       "        <td>Atacora</td>\n",
       "        <td>Security agent</td>\n",
       "        <td>854759</td>\n",
       "    </tr>\n",
       "    <tr>\n",
       "        <td>Atacora</td>\n",
       "        <td>Cmmercial</td>\n",
       "        <td>853389</td>\n",
       "    </tr>\n",
       "    <tr>\n",
       "        <td>Atacora</td>\n",
       "        <td>Tehnician</td>\n",
       "        <td>761814</td>\n",
       "    </tr>\n",
       "    <tr>\n",
       "        <td>Atacora</td>\n",
       "        <td>Statistian</td>\n",
       "        <td>635455</td>\n",
       "    </tr>\n",
       "    <tr>\n",
       "        <td>Atacora</td>\n",
       "        <td>Ingenieur</td>\n",
       "        <td>520886</td>\n",
       "    </tr>\n",
       "    <tr>\n",
       "        <td>Atacora</td>\n",
       "        <td>Farmer</td>\n",
       "        <td>475102</td>\n",
       "    </tr>\n",
       "    <tr>\n",
       "        <td>Atacora</td>\n",
       "        <td>Driver</td>\n",
       "        <td>328737</td>\n",
       "    </tr>\n",
       "</table>"
      ],
      "text/plain": [
       "[('Atacora', 'Nurse', 1240646),\n",
       " ('Atacora', 'Teacher', 1198674),\n",
       " ('Atacora', 'Doctor', 933223),\n",
       " ('Atacora', 'Security agent', 854759),\n",
       " ('Atacora', 'Cmmercial', 853389),\n",
       " ('Atacora', 'Tehnician', 761814),\n",
       " ('Atacora', 'Statistian', 635455),\n",
       " ('Atacora', 'Ingenieur', 520886),\n",
       " ('Atacora', 'Farmer', 475102),\n",
       " ('Atacora', 'Driver', 328737)]"
      ]
     },
     "execution_count": 114,
     "metadata": {},
     "output_type": "execute_result"
    }
   ],
   "source": [
    "%%sql\n",
    "--#Top 10 Occupations from Atacora\n",
    "SELECT p.region, p.Profession, SUM(l.total_paid) Total_Payment FROM Person_democraphic p, Loan_current_daitails l WHERE p.customer_id = l.customer_id AND p.region = 'Atacora' GROUP BY p.Profession ORDER BY Total_Payment DESC LIMIT 10;"
   ]
  },
  {
   "cell_type": "code",
   "execution_count": 115,
   "metadata": {},
   "outputs": [
    {
     "name": "stdout",
     "output_type": "stream",
     "text": [
      " * sqlite:///testdb.sqlite\n",
      "Done.\n"
     ]
    },
    {
     "data": {
      "text/html": [
       "<table>\n",
       "    <tr>\n",
       "        <th>region</th>\n",
       "        <th>Profession</th>\n",
       "        <th>Total_Payment</th>\n",
       "    </tr>\n",
       "    <tr>\n",
       "        <td>Atlantique</td>\n",
       "        <td>Teacher</td>\n",
       "        <td>6062410</td>\n",
       "    </tr>\n",
       "    <tr>\n",
       "        <td>Atlantique</td>\n",
       "        <td>Security agent</td>\n",
       "        <td>5587249</td>\n",
       "    </tr>\n",
       "    <tr>\n",
       "        <td>Atlantique</td>\n",
       "        <td>Driver</td>\n",
       "        <td>5457680</td>\n",
       "    </tr>\n",
       "    <tr>\n",
       "        <td>Atlantique</td>\n",
       "        <td>Nurse</td>\n",
       "        <td>5394546</td>\n",
       "    </tr>\n",
       "    <tr>\n",
       "        <td>Atlantique</td>\n",
       "        <td>Ingenieur</td>\n",
       "        <td>5302315</td>\n",
       "    </tr>\n",
       "    <tr>\n",
       "        <td>Atlantique</td>\n",
       "        <td>Farmer</td>\n",
       "        <td>5041556</td>\n",
       "    </tr>\n",
       "    <tr>\n",
       "        <td>Atlantique</td>\n",
       "        <td>Doctor</td>\n",
       "        <td>4916428</td>\n",
       "    </tr>\n",
       "    <tr>\n",
       "        <td>Atlantique</td>\n",
       "        <td>Tehnician</td>\n",
       "        <td>4790191</td>\n",
       "    </tr>\n",
       "    <tr>\n",
       "        <td>Atlantique</td>\n",
       "        <td>Cmmercial</td>\n",
       "        <td>4545867</td>\n",
       "    </tr>\n",
       "    <tr>\n",
       "        <td>Atlantique</td>\n",
       "        <td>Statistian</td>\n",
       "        <td>4195538</td>\n",
       "    </tr>\n",
       "</table>"
      ],
      "text/plain": [
       "[('Atlantique', 'Teacher', 6062410),\n",
       " ('Atlantique', 'Security agent', 5587249),\n",
       " ('Atlantique', 'Driver', 5457680),\n",
       " ('Atlantique', 'Nurse', 5394546),\n",
       " ('Atlantique', 'Ingenieur', 5302315),\n",
       " ('Atlantique', 'Farmer', 5041556),\n",
       " ('Atlantique', 'Doctor', 4916428),\n",
       " ('Atlantique', 'Tehnician', 4790191),\n",
       " ('Atlantique', 'Cmmercial', 4545867),\n",
       " ('Atlantique', 'Statistian', 4195538)]"
      ]
     },
     "execution_count": 115,
     "metadata": {},
     "output_type": "execute_result"
    }
   ],
   "source": [
    "%%sql\n",
    "--#Top 10 Occupations from Atlantique\n",
    "SELECT p.region, p.Profession, SUM(l.total_paid) Total_Payment FROM Person_democraphic p, Loan_current_daitails l WHERE p.customer_id = l.customer_id AND p.region = 'Atlantique' GROUP BY p.Profession ORDER BY Total_Payment DESC LIMIT 10;"
   ]
  }
 ],
 "metadata": {
  "kernelspec": {
   "display_name": "Python 3",
   "language": "python",
   "name": "python3"
  },
  "language_info": {
   "codemirror_mode": {
    "name": "ipython",
    "version": 3
   },
   "file_extension": ".py",
   "mimetype": "text/x-python",
   "name": "python",
   "nbconvert_exporter": "python",
   "pygments_lexer": "ipython3",
   "version": "3.7.6"
  }
 },
 "nbformat": 4,
 "nbformat_minor": 4
}
