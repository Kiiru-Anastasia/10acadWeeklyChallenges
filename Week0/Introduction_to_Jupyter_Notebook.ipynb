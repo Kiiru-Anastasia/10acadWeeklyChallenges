{
 "cells": [
  {
   "cell_type": "markdown",
   "metadata": {},
   "source": [
    "# GET STARTED WITH JUPYTER NOTEBOOK"
   ]
  },
  {
   "cell_type": "markdown",
   "metadata": {},
   "source": [
    "## LEARNING OBJECTIVES\n",
    "* WRITE AND TEST A PYTHON CODE\n",
    "* WHAT IS MARKDOWN?\n",
    "* FORMAT TEXT IN JUPYTER NOTEBOOK WITH MARKDOWN\n",
    "* SECTION HEADERS\n",
    "* LISTS\n",
    "* BOLD AND ITALICIZE\n",
    "* HIGHLIGHT CODE\n",
    "* HORIZONTAL LINES (RULES)\n",
    "* HYPERLINKS\n",
    "* RENDER IMAGES"
   ]
  },
  {
   "cell_type": "markdown",
   "metadata": {},
   "source": [
    "### Write and test a python code"
   ]
  },
  {
   "cell_type": "markdown",
   "metadata": {},
   "source": [
    "In code cells, you can write Python code, then execute the Python code and see the resulting output. An example of a code cell is shown below."
   ]
  },
  {
   "cell_type": "code",
   "execution_count": 2,
   "metadata": {},
   "outputs": [
    {
     "name": "stdout",
     "output_type": "stream",
     "text": [
      "7\n"
     ]
    }
   ],
   "source": [
    "a= 2\n",
    "b= 5\n",
    "c= a+b\n",
    "print(c)"
   ]
  },
  {
   "cell_type": "markdown",
   "metadata": {},
   "source": [
    "### What is Markdown?"
   ]
  },
  {
   "cell_type": "markdown",
   "metadata": {},
   "source": [
    "`Markdown` is a human readable syntax (also referred to as a markup language) for formatting text documents. `Markdown` can be used to produce nicely formatted documents including PDFs and web pages.\n",
    "\n",
    "When you format text using Markdown in a document, it is similar to using the format tools (e.g. bold, heading 1, heading 2) in a word processing tool like Microsoft Word or Google Docs. However, instead of using buttons to apply formatting, you use syntax such as `**this syntax bolds text in markdown**` or `# Here is a heading`.\n",
    "\n",
    "Markdown syntax allows you to format text in many ways, such as making headings, bolding and italicizing words, creating bulleted lists, adding links, formatting mathematical symbols and making tables. These options allow you to format text in visually appealing and organized ways to present your ideas.\n",
    "\n",
    "You can use Markdown to format text in many different tools including GitHub.com, R using RMarkdown, and Jupyter Notebook, which you will learn more about this tutorial."
   ]
  },
  {
   "cell_type": "markdown",
   "metadata": {},
   "source": [
    "### Markdown in Jupyter Notebook"
   ]
  },
  {
   "cell_type": "markdown",
   "metadata": {},
   "source": [
    "A great benefit of `Jupyter Notebook` is that it allows you to combine both code (e.g. Python) and `Markdown` in one document, so that you can easily document your workflows.\n",
    "\n",
    "A `Jupyter Notebook` file uses cells to organize content, and it can contain both cells that render text written using the `Markdown` syntax as well as cells that contain and run `Python` code.\n",
    "\n",
    "Thus, you can use a combination of `Markdown` and `Python` code cells to organize and document your `Jupyter Notebook` for others to easily read and follow your workflow."
   ]
  },
  {
   "cell_type": "markdown",
   "metadata": {},
   "source": [
    "### Benefits of Markdown for Data Science\n",
    "\n",
    "Being able to include both `Markdown` and code (e.g. Python) cells in a `Jupyter Notebook` file supports reproducible science by allowing you to:\n",
    "\n",
    "* Document your workflow: You can add text to the document that describes the steps of your processing workflow (e.g. how data is being processed and what results are produced).\n",
    "* Describe your data: You can describe the data that you are using (e.g. source, pre-processing, metadata).\n",
    "* Interpret code outputs: You can add some text that interprets or discusses the outputs.all in one document!\n",
    "\n",
    "When used effectively, Markdown documentation can help anyone who opens your Jupyter Notebook to follow, understand and even reproduce your workflow."
   ]
  },
  {
   "cell_type": "markdown",
   "metadata": {},
   "source": [
    "### Format Text in Jupyter Notebook with Markdown\n",
    "#### Markdown Cells in Jupyter Notebook\n",
    "The following describe how to add new `Markdown` cells to your `Jupyter Notebook` files using Menu tools and Keyboard Shortcuts to create new cells."
   ]
  },
  {
   "cell_type": "markdown",
   "metadata": {},
   "source": [
    "Function|\tKeyboard Shortcut|\tMenu Tools\n",
    "--------|----------------|--------------|\n",
    "Create new cell|\tEsc + a (above), Esc + b (below)|\tInsert→ Insert Cell Above OR Insert → Insert Cell Below\n",
    "Copy Cell|\tc|\tCopy Key\n",
    "Paste Cell|\tv|\tPaste Key"
   ]
  },
  {
   "cell_type": "markdown",
   "metadata": {},
   "source": [
    "You can also change the default type of the cell by clicking in the cell and selecting a new cell type (e.g. Markdown) in the cell type menu in the toolbar. Furthermore, in a Jupyter Notebook file, you can double-click in any Markdown cell to see the syntax, and then run the cell again to see the Markdown formatting.\n",
    "\n",
    "In the following, you will learn basic Markdown syntax that you can use to format text in Jupyter Notebook files."
   ]
  },
  {
   "cell_type": "markdown",
   "metadata": {},
   "source": [
    "### Section Headers\n",
    "You can create a heading using the pound (#) sign. For the headers to render properly, there must be a space between the # and the header text.\n",
    "\n",
    "Heading one is denoted using one # sign, heading two is denoted using two ## signs, etc, as follows:"
   ]
  },
  {
   "cell_type": "code",
   "execution_count": null,
   "metadata": {},
   "outputs": [],
   "source": [
    "## Heading Two\n",
    "\n",
    "### Heading Three\n",
    "\n",
    "#### Heading Four"
   ]
  },
  {
   "cell_type": "markdown",
   "metadata": {},
   "source": [
    "Here is a sample of the rendered Markdown:\n",
    "\n",
    "### Heading Three\n",
    "\n",
    "#### Heading Four"
   ]
  },
  {
   "cell_type": "markdown",
   "metadata": {},
   "source": [
    "### Lists\n",
    "You can also use Markdown to create lists using the following syntax:\n",
    "\n",
    "* This is a bullet list\n",
    "* This is a bullet list\n",
    "* This is a bullet list\n",
    "\n",
    "\n",
    "1. And you can also create ordered lists\n",
    "2. by using numbers\n",
    "3. and listing new items in the lists \n",
    "4. on their own lines\n",
    "\n",
    "Notice that you have space between the `*` or `1`. and the text. The space triggers the action to create the list using `Markdown`."
   ]
  },
  {
   "cell_type": "markdown",
   "metadata": {},
   "source": [
    "### Bold and Italicize\n",
    "You can also use `**` to bold or `*` to italicize words. To bold and italicize words, the symbols have to be touching the word and have to be repeated before and after the word using the following syntax:\n",
    "\n",
    "*These are italicized words, not a bullet list*\n",
    "**These are bold words, not a bullet list**\n",
    "\n",
    "* **This is a bullet item with bold words**\n",
    "* *This is a bullet item with italicized words*"
   ]
  },
  {
   "cell_type": "markdown",
   "metadata": {},
   "source": [
    "### Highlight Code\n",
    "If you want to highlight a function or some code within a plain text paragraph, you can use one backtick on each side of the text like this:\n",
    "\n",
    "`Here is some code!`\n",
    "\n",
    "The symbol used is the backtick, or grave; not an apostrophe (on most US keyboards, it is on the same key as the tilde (~))."
   ]
  },
  {
   "cell_type": "markdown",
   "metadata": {},
   "source": [
    "### Horizontal Lines (Rules)\n",
    "You can also create a horizontal line or rule to highlight a block of `Markdown` syntax (similar to the highlighting a block of code using the backticks):\n",
    "\n",
    "***\n",
    "\n",
    "Here is some important text!\n",
    "\n",
    "***"
   ]
  },
  {
   "cell_type": "markdown",
   "metadata": {},
   "source": [
    "### Hyperlinks\n",
    "You can also use HTML in Markdown cells to create hyperlinks to websites using the following syntax:\n",
    "<a href=\"url\" target=\"_blank\">hyperlinked words</a> \n",
    "You can identify the words that will be hyperlinked (i.e. prompt a web page to open when clicked) by replacing hyperlinked words in the example above.\n",
    "For example, the following syntax:\n",
    "the `10academy` website can be found at <a href=\"https://www.10academy.org/\" target=\"_blank\">this link</a>.\n",
    "will render as follows with this link as the hyperlinked words"
   ]
  },
  {
   "cell_type": "markdown",
   "metadata": {},
   "source": [
    "### Render Images\n",
    "You can also use `Markdown` to link to images on the web using the following syntax:\n",
    "![alt text here](url-to-image-here)\n",
    "The alt text is the alternative text that appears if an image fails to load on webpage; it is also used by screen-reading tools to identify the image to users of the screen-reading tools.\n",
    "For example, the following syntax will display the markdown image:\n",
    "![Markdown Logo is here.](https://www.fullstackpython.com/img/logos/markdown.png)"
   ]
  },
  {
   "cell_type": "markdown",
   "metadata": {},
   "source": [
    "### Local Images Using Relative Computer Paths\n",
    "You can also add images to a `Markdown` cell using relative paths to files in your directory structure using:\n",
    "![alt text here](path-to-image-here)\n",
    "For relative paths (images stored on your computer) to work in `Jupyter Notebook`, you need to place the image in a location on your computer that is RELATIVE to your `.ipynb file`. This is where good file management becomes extremely important.\n",
    "For a simple example of using relative paths, imagine that you have a subdirectory named images in your `jupyter_codes directory` `(i.e. jupyter_codes/images/)`.\n",
    "If your Jupyter Notebook file (.ipynb) is located in root of this directory `(i.e. jupyter_codes/notebook.ipynb)`, and all images that you want to include in your report are located in the images subdirectory `(i.e. jupyter_codes/images/)`, then the path that you would use for each image is:\n",
    "`images/image-name.png`\n",
    "If all of your images are in the images subdirectory, then you will be able to easily find them. This also follows good file management practices because all of the images that you use in your report are contained within your project directory."
   ]
  },
  {
   "cell_type": "markdown",
   "metadata": {},
   "source": [
    "# Challenge "
   ]
  },
  {
   "cell_type": "markdown",
   "metadata": {},
   "source": [
    "#### Conditional statement: \n",
    "Write a Python program to sum of two given integers. However, if the sum is between 15 to 20 it will return 20."
   ]
  },
  {
   "cell_type": "code",
   "execution_count": 8,
   "metadata": {},
   "outputs": [
    {
     "name": "stdout",
     "output_type": "stream",
     "text": [
      "29\n"
     ]
    }
   ],
   "source": [
    "# Try here\n",
    "def summation(a,b):\n",
    "    sum = a + b\n",
    "    if (a == 15 and b == 20) | (a == 20 and b == 15):\n",
    "        sum = 20\n",
    "    return sum\n",
    "\n",
    "print (summation(14,15))"
   ]
  },
  {
   "cell_type": "markdown",
   "metadata": {},
   "source": [
    "#### Function:\n",
    "Write a Python function to sum all the numbers in a list. Go to the editor\n",
    "Sample List : (8, 2, 3, 0, 7)\n",
    "Expected Output : 20"
   ]
  },
  {
   "cell_type": "code",
   "execution_count": 22,
   "metadata": {},
   "outputs": [
    {
     "name": "stdout",
     "output_type": "stream",
     "text": [
      "20\n"
     ]
    }
   ],
   "source": [
    "# Try here\n",
    "def listsummation(list):\n",
    "    sum = 0\n",
    "    for i in list:\n",
    "        sum+=i\n",
    "    return sum\n",
    "\n",
    "print (listsummation([8,2,3,0,7]))"
   ]
  },
  {
   "cell_type": "markdown",
   "metadata": {},
   "source": [
    "#### Lambda:\n",
    "Write a Python program to extract year, month, date and time using Lambda."
   ]
  },
  {
   "cell_type": "code",
   "execution_count": 16,
   "metadata": {},
   "outputs": [
    {
     "name": "stdout",
     "output_type": "stream",
     "text": [
      "2020-06-30 14:11:53.497650\n",
      "They year is  2020\n",
      "The month is  6\n",
      "The day is  30\n",
      "and the time is  14:11:53.497650\n"
     ]
    }
   ],
   "source": [
    "# Try here\n",
    "from datetime import datetime\n",
    "\n",
    "now = datetime.now()\n",
    "\n",
    "print(now)\n",
    "\n",
    "year = lambda y: y.year\n",
    "month = lambda m: m.month\n",
    "day = lambda d: d.day\n",
    "time = lambda t: t.time()\n",
    "\n",
    "print(\"They year is \",year(now))\n",
    "print(\"The month is \",month(now))\n",
    "print(\"The day is \",day(now))\n",
    "print(\"and the time is \",time(now))"
   ]
  },
  {
   "cell_type": "markdown",
   "metadata": {},
   "source": [
    "#### SQLite Database\n",
    "Write a Python program to create a SQLite database and connect with the database and print the version of the SQLite database. "
   ]
  },
  {
   "cell_type": "markdown",
   "metadata": {},
   "source": [
    "Notes: \n",
    "* conda install -c blaze sqlite3 will install sqlite3 (do it in your anaconda prompt)   \n",
    "* Allows the use of a sqlite database: `import sqlite3` to use the module.\n",
    "* Connection to an existing database or to create:\n",
    "    * con = sqlite3.connect ('myFile.db') : create a connection.\n",
    "    * con.close () : close the connection.\n",
    "    * con.commit () : commits transactions.\n",
    "    * con.rollback () : rollback transactions.\n",
    "* Execution of orders:\n",
    "    * we create a cursor, we execute the order and we close the cursor:\n",
    "    * cur = con.cursor ()\n",
    "    * cur.execute ('create table myTable (x integer, y text)')\n",
    "    * cur.close ()\n",
    "    "
   ]
  },
  {
   "cell_type": "code",
   "execution_count": 42,
   "metadata": {},
   "outputs": [
    {
     "name": "stdout",
     "output_type": "stream",
     "text": [
      "\n",
      "Database created and connected to SQLite.\n",
      "\n",
      "SQLite Database Version is:  [('3.31.1',)]\n",
      "\n",
      "The SQLite connection is closed.\n"
     ]
    }
   ],
   "source": [
    "# Try here\n",
    "import sqlite3\n",
    "try:\n",
    "   con = sqlite3.connect('myFile.db')\n",
    "   cur = con.cursor()\n",
    "   print(\"\\nDatabase created and connected to SQLite.\")\n",
    "   sqlite_select_Query = \"select sqlite_version();\"\n",
    "   cur.execute(sqlite_select_Query)\n",
    "   record = cur.fetchall()\n",
    "   print(\"\\nSQLite Database Version is: \", record)\n",
    "   cur.close()\n",
    "except sqlite3.Error as error:\n",
    "   print(\"\\nError while connecting to sqlite\", error)\n",
    "finally:\n",
    "   if (con):\n",
    "       con.close()\n",
    "       print(\"\\nThe SQLite connection is closed.\")"
   ]
  },
  {
   "cell_type": "markdown",
   "metadata": {},
   "source": [
    "#### CSV read and write\n",
    "Write a Python program to read a given CSV file having tab delimiter."
   ]
  },
  {
   "cell_type": "code",
   "execution_count": 40,
   "metadata": {},
   "outputs": [
    {
     "data": {
      "text/html": [
       "<div>\n",
       "<style scoped>\n",
       "    .dataframe tbody tr th:only-of-type {\n",
       "        vertical-align: middle;\n",
       "    }\n",
       "\n",
       "    .dataframe tbody tr th {\n",
       "        vertical-align: top;\n",
       "    }\n",
       "\n",
       "    .dataframe thead th {\n",
       "        text-align: right;\n",
       "    }\n",
       "</style>\n",
       "<table border=\"1\" class=\"dataframe\">\n",
       "  <thead>\n",
       "    <tr style=\"text-align: right;\">\n",
       "      <th></th>\n",
       "      <th>country_id|country_name|region_id</th>\n",
       "    </tr>\n",
       "  </thead>\n",
       "  <tbody>\n",
       "    <tr>\n",
       "      <th>0</th>\n",
       "      <td>AR|Argentina|2</td>\n",
       "    </tr>\n",
       "    <tr>\n",
       "      <th>1</th>\n",
       "      <td>AU|Australia|3</td>\n",
       "    </tr>\n",
       "    <tr>\n",
       "      <th>2</th>\n",
       "      <td>BE|Belgium|1</td>\n",
       "    </tr>\n",
       "    <tr>\n",
       "      <th>3</th>\n",
       "      <td>BR|Brazil|2</td>\n",
       "    </tr>\n",
       "    <tr>\n",
       "      <th>4</th>\n",
       "      <td>CA|Canada|2</td>\n",
       "    </tr>\n",
       "    <tr>\n",
       "      <th>5</th>\n",
       "      <td>CH|Switzerland|1</td>\n",
       "    </tr>\n",
       "    <tr>\n",
       "      <th>6</th>\n",
       "      <td>CN|China|3</td>\n",
       "    </tr>\n",
       "    <tr>\n",
       "      <th>7</th>\n",
       "      <td>DE|Germany|1</td>\n",
       "    </tr>\n",
       "    <tr>\n",
       "      <th>8</th>\n",
       "      <td>DK|Denmark|1</td>\n",
       "    </tr>\n",
       "    <tr>\n",
       "      <th>9</th>\n",
       "      <td>EG|Egypt|4</td>\n",
       "    </tr>\n",
       "    <tr>\n",
       "      <th>10</th>\n",
       "      <td>FR|France|1</td>\n",
       "    </tr>\n",
       "    <tr>\n",
       "      <th>11</th>\n",
       "      <td>HK|HongKong|3</td>\n",
       "    </tr>\n",
       "    <tr>\n",
       "      <th>12</th>\n",
       "      <td>IL|Israel|4</td>\n",
       "    </tr>\n",
       "    <tr>\n",
       "      <th>13</th>\n",
       "      <td>IN|India|3</td>\n",
       "    </tr>\n",
       "    <tr>\n",
       "      <th>14</th>\n",
       "      <td>IT|Italy|1</td>\n",
       "    </tr>\n",
       "    <tr>\n",
       "      <th>15</th>\n",
       "      <td>JP|Japan|3</td>\n",
       "    </tr>\n",
       "    <tr>\n",
       "      <th>16</th>\n",
       "      <td>KW|Kuwait|4</td>\n",
       "    </tr>\n",
       "    <tr>\n",
       "      <th>17</th>\n",
       "      <td>MX|Mexico|2</td>\n",
       "    </tr>\n",
       "    <tr>\n",
       "      <th>18</th>\n",
       "      <td>NG|Nigeria|4</td>\n",
       "    </tr>\n",
       "    <tr>\n",
       "      <th>19</th>\n",
       "      <td>N|Netherlands|1</td>\n",
       "    </tr>\n",
       "    <tr>\n",
       "      <th>20</th>\n",
       "      <td>SG|Singapore|3</td>\n",
       "    </tr>\n",
       "    <tr>\n",
       "      <th>21</th>\n",
       "      <td>UK|United|Kingdom|1</td>\n",
       "    </tr>\n",
       "    <tr>\n",
       "      <th>22</th>\n",
       "      <td>US|United|States|of|America|2</td>\n",
       "    </tr>\n",
       "    <tr>\n",
       "      <th>23</th>\n",
       "      <td>ZM|Zambia|4</td>\n",
       "    </tr>\n",
       "    <tr>\n",
       "      <th>24</th>\n",
       "      <td>ZW|Zimbabwe|4</td>\n",
       "    </tr>\n",
       "  </tbody>\n",
       "</table>\n",
       "</div>"
      ],
      "text/plain": [
       "   country_id|country_name|region_id\n",
       "0                     AR|Argentina|2\n",
       "1                     AU|Australia|3\n",
       "2                       BE|Belgium|1\n",
       "3                        BR|Brazil|2\n",
       "4                        CA|Canada|2\n",
       "5                   CH|Switzerland|1\n",
       "6                         CN|China|3\n",
       "7                       DE|Germany|1\n",
       "8                       DK|Denmark|1\n",
       "9                         EG|Egypt|4\n",
       "10                       FR|France|1\n",
       "11                     HK|HongKong|3\n",
       "12                       IL|Israel|4\n",
       "13                        IN|India|3\n",
       "14                        IT|Italy|1\n",
       "15                        JP|Japan|3\n",
       "16                       KW|Kuwait|4\n",
       "17                       MX|Mexico|2\n",
       "18                      NG|Nigeria|4\n",
       "19                   N|Netherlands|1\n",
       "20                    SG|Singapore|3\n",
       "21               UK|United|Kingdom|1\n",
       "22     US|United|States|of|America|2\n",
       "23                       ZM|Zambia|4\n",
       "24                     ZW|Zimbabwe|4"
      ]
     },
     "execution_count": 40,
     "metadata": {},
     "output_type": "execute_result"
    }
   ],
   "source": [
    "# Try here\n",
    "import pandas as pd\n",
    "\n",
    "countries = pd.read_csv('Countries.csv', delimiter = '\\t')\n",
    "countries                      "
   ]
  },
  {
   "cell_type": "markdown",
   "metadata": {},
   "source": [
    "Write a Python program to write a Python list of lists to a csv file. After writing the CSV file read the CSV file and display the content. \n",
    "* consider these data : data = [[10,'a1', 1], [12,'a2', 3], [14, 'a3', 5], [16, 'a4', 7], [18, 'a5', 9]]"
   ]
  },
  {
   "cell_type": "code",
   "execution_count": 28,
   "metadata": {},
   "outputs": [
    {
     "data": {
      "text/html": [
       "<div>\n",
       "<style scoped>\n",
       "    .dataframe tbody tr th:only-of-type {\n",
       "        vertical-align: middle;\n",
       "    }\n",
       "\n",
       "    .dataframe tbody tr th {\n",
       "        vertical-align: top;\n",
       "    }\n",
       "\n",
       "    .dataframe thead th {\n",
       "        text-align: right;\n",
       "    }\n",
       "</style>\n",
       "<table border=\"1\" class=\"dataframe\">\n",
       "  <thead>\n",
       "    <tr style=\"text-align: right;\">\n",
       "      <th></th>\n",
       "      <th>0</th>\n",
       "      <th>1</th>\n",
       "      <th>2</th>\n",
       "    </tr>\n",
       "  </thead>\n",
       "  <tbody>\n",
       "    <tr>\n",
       "      <th>0</th>\n",
       "      <td>10</td>\n",
       "      <td>a1</td>\n",
       "      <td>1</td>\n",
       "    </tr>\n",
       "    <tr>\n",
       "      <th>1</th>\n",
       "      <td>12</td>\n",
       "      <td>a2</td>\n",
       "      <td>3</td>\n",
       "    </tr>\n",
       "    <tr>\n",
       "      <th>2</th>\n",
       "      <td>14</td>\n",
       "      <td>a3</td>\n",
       "      <td>5</td>\n",
       "    </tr>\n",
       "    <tr>\n",
       "      <th>3</th>\n",
       "      <td>16</td>\n",
       "      <td>a4</td>\n",
       "      <td>7</td>\n",
       "    </tr>\n",
       "    <tr>\n",
       "      <th>4</th>\n",
       "      <td>18</td>\n",
       "      <td>a5</td>\n",
       "      <td>9</td>\n",
       "    </tr>\n",
       "  </tbody>\n",
       "</table>\n",
       "</div>"
      ],
      "text/plain": [
       "    0   1  2\n",
       "0  10  a1  1\n",
       "1  12  a2  3\n",
       "2  14  a3  5\n",
       "3  16  a4  7\n",
       "4  18  a5  9"
      ]
     },
     "execution_count": 28,
     "metadata": {},
     "output_type": "execute_result"
    }
   ],
   "source": [
    "import pandas as pd\n",
    "\n",
    "data = [[10,'a1', 1], [12,'a2', 3], [14, 'a3', 5], [16, 'a4', 7], [18, 'a5', 9]]\n",
    "\n",
    "dataFrame = pd.DataFrame(data)\n",
    "dataFrame.to_csv('sample_data.csv', index = False)\n",
    "\n",
    "sample_data = pd.read_csv('sample_data.csv')\n",
    "sample_data"
   ]
  },
  {
   "cell_type": "markdown",
   "metadata": {},
   "source": [
    "#### Numpy\n",
    "Write a NumPy program to get the indices of the sorted elements of a given array.\n",
    "Use student_id = np.array([1023, 5202, 6230, 1671, 1682, 5241, 4532])"
   ]
  },
  {
   "cell_type": "code",
   "execution_count": 32,
   "metadata": {},
   "outputs": [
    {
     "data": {
      "text/plain": [
       "(array([0, 1, 2, 3, 4, 5, 6], dtype=int64),)"
      ]
     },
     "execution_count": 32,
     "metadata": {},
     "output_type": "execute_result"
    }
   ],
   "source": [
    "# Try here\n",
    "import numpy as np\n",
    "\n",
    "student_id = np.array([1023, 5202, 6230, 1671, 1682, 5241, 4532])\n",
    "student_id.sort()\n",
    "np.where(student_id > 1000)"
   ]
  },
  {
   "cell_type": "markdown",
   "metadata": {},
   "source": [
    "#### Pandas\n",
    "Write a Pandas program to select the 'name' and 'score' columns from the following DataFrame.\n",
    "Sample Python dictionary data and list labels:\n",
    "* exam_data = {'name': ['Anastasia', 'Dima', 'Katherine', 'James', 'Emily', 'Michael', 'Matthew', 'Laura', 'Kevin', 'Jonas'],\n",
    "'score': [12.5, 9, 16.5, np.nan, 9, 20, 14.5, np.nan, 8, 19],\n",
    "'attempts': [1, 3, 2, 3, 2, 3, 1, 1, 2, 1],\n",
    "'qualify': ['yes', 'no', 'yes', 'no', 'no', 'yes', 'yes', 'no', 'no', 'yes']}\n",
    "* labels = ['a', 'b', 'c', 'd', 'e', 'f', 'g', 'h', 'i', 'j'] can serve as index for the dataframe"
   ]
  },
  {
   "cell_type": "code",
   "execution_count": 29,
   "metadata": {},
   "outputs": [
    {
     "data": {
      "text/html": [
       "<div>\n",
       "<style scoped>\n",
       "    .dataframe tbody tr th:only-of-type {\n",
       "        vertical-align: middle;\n",
       "    }\n",
       "\n",
       "    .dataframe tbody tr th {\n",
       "        vertical-align: top;\n",
       "    }\n",
       "\n",
       "    .dataframe thead th {\n",
       "        text-align: right;\n",
       "    }\n",
       "</style>\n",
       "<table border=\"1\" class=\"dataframe\">\n",
       "  <thead>\n",
       "    <tr style=\"text-align: right;\">\n",
       "      <th></th>\n",
       "      <th>name</th>\n",
       "      <th>score</th>\n",
       "    </tr>\n",
       "  </thead>\n",
       "  <tbody>\n",
       "    <tr>\n",
       "      <th>a</th>\n",
       "      <td>Anastasia</td>\n",
       "      <td>12.5</td>\n",
       "    </tr>\n",
       "    <tr>\n",
       "      <th>b</th>\n",
       "      <td>Dima</td>\n",
       "      <td>9.0</td>\n",
       "    </tr>\n",
       "    <tr>\n",
       "      <th>c</th>\n",
       "      <td>Katherine</td>\n",
       "      <td>16.5</td>\n",
       "    </tr>\n",
       "    <tr>\n",
       "      <th>d</th>\n",
       "      <td>James</td>\n",
       "      <td>NaN</td>\n",
       "    </tr>\n",
       "    <tr>\n",
       "      <th>e</th>\n",
       "      <td>Emily</td>\n",
       "      <td>9.0</td>\n",
       "    </tr>\n",
       "    <tr>\n",
       "      <th>f</th>\n",
       "      <td>Michael</td>\n",
       "      <td>20.0</td>\n",
       "    </tr>\n",
       "    <tr>\n",
       "      <th>g</th>\n",
       "      <td>Matthew</td>\n",
       "      <td>14.5</td>\n",
       "    </tr>\n",
       "    <tr>\n",
       "      <th>h</th>\n",
       "      <td>Laura</td>\n",
       "      <td>NaN</td>\n",
       "    </tr>\n",
       "    <tr>\n",
       "      <th>i</th>\n",
       "      <td>Kevin</td>\n",
       "      <td>8.0</td>\n",
       "    </tr>\n",
       "    <tr>\n",
       "      <th>j</th>\n",
       "      <td>Jonas</td>\n",
       "      <td>19.0</td>\n",
       "    </tr>\n",
       "  </tbody>\n",
       "</table>\n",
       "</div>"
      ],
      "text/plain": [
       "        name  score\n",
       "a  Anastasia   12.5\n",
       "b       Dima    9.0\n",
       "c  Katherine   16.5\n",
       "d      James    NaN\n",
       "e      Emily    9.0\n",
       "f    Michael   20.0\n",
       "g    Matthew   14.5\n",
       "h      Laura    NaN\n",
       "i      Kevin    8.0\n",
       "j      Jonas   19.0"
      ]
     },
     "execution_count": 29,
     "metadata": {},
     "output_type": "execute_result"
    }
   ],
   "source": [
    "# Try here\n",
    "import pandas as pd\n",
    "import numpy as np\n",
    "\n",
    "exam_data = {'name': ['Anastasia', 'Dima', 'Katherine', 'James', 'Emily', 'Michael', 'Matthew', 'Laura', 'Kevin', 'Jonas'], 'score': [12.5, 9, 16.5, np.nan, 9, 20, 14.5, np.nan, 8, 19], 'attempts': [1, 3, 2, 3, 2, 3, 1, 1, 2, 1], 'qualify': ['yes', 'no', 'yes', 'no', 'no', 'yes', 'yes', 'no', 'no', 'yes']}\n",
    "\n",
    "labels = ['a', 'b', 'c', 'd', 'e', 'f', 'g', 'h', 'i', 'j']\n",
    "\n",
    "df = pd.DataFrame(exam_data, index = labels)\n",
    "df[['name', 'score']]"
   ]
  },
  {
   "cell_type": "markdown",
   "metadata": {},
   "source": [
    "References: \n",
    "* <a href=\"https://www.w3resource.com/\" target=\"_blank\">w3resource</a>\n",
    "* <a href=\"https://www.python-simple.com/\" target=\"_blank\">python-simple</a>\n",
    "* <a href=\"https://www.earthdatascience.org/\" target=\"_blank\">earthdatascience</a>"
   ]
  }
 ],
 "metadata": {
  "kernelspec": {
   "display_name": "Python 3",
   "language": "python",
   "name": "python3"
  },
  "language_info": {
   "codemirror_mode": {
    "name": "ipython",
    "version": 3
   },
   "file_extension": ".py",
   "mimetype": "text/x-python",
   "name": "python",
   "nbconvert_exporter": "python",
   "pygments_lexer": "ipython3",
   "version": "3.7.6"
  }
 },
 "nbformat": 4,
 "nbformat_minor": 4
}
